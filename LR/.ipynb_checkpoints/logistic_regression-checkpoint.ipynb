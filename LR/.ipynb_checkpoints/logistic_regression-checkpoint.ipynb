{
 "cells": [
  {
   "cell_type": "markdown",
   "metadata": {},
   "source": [
    "## Logistic Regression with Gradient Descent"
   ]
  },
  {
   "cell_type": "code",
   "execution_count": 220,
   "metadata": {
    "collapsed": true
   },
   "outputs": [],
   "source": [
    "from sklearn.datasets import fetch_mldata\n",
    "from sklearn import preprocessing\n",
    "import matplotlib.pyplot as plt\n",
    "import numpy as np"
   ]
  },
  {
   "cell_type": "code",
   "execution_count": 259,
   "metadata": {},
   "outputs": [],
   "source": [
    "mnist = fetch_mldata('MNIST original', data_home='./data')"
   ]
  },
  {
   "cell_type": "code",
   "execution_count": 352,
   "metadata": {},
   "outputs": [
    {
     "name": "stdout",
     "output_type": "stream",
     "text": [
      "(70000, 784)\n",
      "(70000,)\n"
     ]
    }
   ],
   "source": [
    "print(mnist['data'].shape)\n",
    "print(mnist['target'].shape)"
   ]
  },
  {
   "cell_type": "code",
   "execution_count": 353,
   "metadata": {},
   "outputs": [],
   "source": [
    "X = np.array(mnist.data)\n",
    "Y = np.array(mnist.target)[:,np.newaxis]"
   ]
  },
  {
   "cell_type": "code",
   "execution_count": 354,
   "metadata": {},
   "outputs": [],
   "source": [
    "# Select examples with label \"0\" or \"1\" and then shuffle the dataset\n",
    "All = np.hstack((X,Y))\n",
    "selected = (All[:, -1] == 0) | (All[:, -1] == 1)\n",
    "All = All[selected]\n",
    "\n",
    "np.random.shuffle(All)"
   ]
  },
  {
   "cell_type": "code",
   "execution_count": 355,
   "metadata": {},
   "outputs": [
    {
     "name": "stdout",
     "output_type": "stream",
     "text": [
      "Training Dimension  (12000, 785)\n",
      "Testing Dimension  (2780, 785)\n",
      "Training label:  (12000, 1)\n",
      "Testing label:  (2780, 1)\n"
     ]
    }
   ],
   "source": [
    "# Train/test split\n",
    "train_X = All[:12000, :-1]\n",
    "train_Y = All[:12000, -1][:,np.newaxis]  # Add an extra axis\n",
    "\n",
    "test_X = All[12000:, :-1]\n",
    "test_Y = All[12000:, -1][:,np.newaxis]\n",
    "\n",
    "# Normalize the data\n",
    "train_X = preprocessing.scale(train_X) \n",
    "test_X = preprocessing.scale(test_X)\n",
    "\n",
    "# Add Intercept\n",
    "ones_train = np.ones(len(train_X))[:,np.newaxis]\n",
    "ones_test = np.ones(len(test_X))[:,np.newaxis]\n",
    "\n",
    "train_X = np.hstack((train_X, ones_train))\n",
    "test_X = np.hstack((test_X, ones_test))\n",
    "\n",
    "print(\"Training Dimension \",train_X.shape)\n",
    "print(\"Testing Dimension \", test_X.shape)\n",
    "\n",
    "print('Training label: ', train_Y.shape)\n",
    "print('Testing label: ', test_Y.shape)"
   ]
  },
  {
   "cell_type": "code",
   "execution_count": 365,
   "metadata": {},
   "outputs": [
    {
     "data": {
      "text/plain": [
       "(785, 1)"
      ]
     },
     "execution_count": 365,
     "metadata": {},
     "output_type": "execute_result"
    }
   ],
   "source": [
    "theta = np.random.rand(train_X.shape[1]) * 0.001\n",
    "theta = theta[:, np.newaxis]\n",
    "theta.shape"
   ]
  },
  {
   "cell_type": "code",
   "execution_count": null,
   "metadata": {
    "collapsed": true
   },
   "outputs": [],
   "source": []
  },
  {
   "cell_type": "code",
   "execution_count": 357,
   "metadata": {},
   "outputs": [
    {
     "data": {
      "text/plain": [
       "(785, 1)"
      ]
     },
     "execution_count": 357,
     "metadata": {},
     "output_type": "execute_result"
    }
   ],
   "source": [
    "# Just testings\n",
    "gr = (sig_vec(train_X @ theta) - train_Y).T @ train_X\n",
    "gr = gr.T\n",
    "gr.shape"
   ]
  },
  {
   "cell_type": "code",
   "execution_count": null,
   "metadata": {
    "collapsed": true
   },
   "outputs": [],
   "source": []
  },
  {
   "cell_type": "code",
   "execution_count": 366,
   "metadata": {
    "collapsed": true
   },
   "outputs": [],
   "source": [
    "error = 0.01\n",
    "ita = 0.001"
   ]
  },
  {
   "cell_type": "code",
   "execution_count": 359,
   "metadata": {
    "collapsed": true
   },
   "outputs": [],
   "source": [
    "def sigmoid(z):\n",
    "    return 1/(1 + np.exp(-z))\n",
    "\n",
    "sig_vec = np.vectorize(sigmoid) # Vectorized version of sigmoid"
   ]
  },
  {
   "cell_type": "code",
   "execution_count": 364,
   "metadata": {
    "collapsed": true
   },
   "outputs": [],
   "source": [
    "def cost_function(theta, train_X, train_Y):\n",
    "    power = -train_X @ theta * train_Y\n",
    "    print('lol') # debug\n",
    "    return -np.sum(np.log(np.exp(power) + 1))"
   ]
  },
  {
   "cell_type": "code",
   "execution_count": 361,
   "metadata": {
    "collapsed": true
   },
   "outputs": [],
   "source": [
    "def get_gradient(train_X, train_Y, theta):\n",
    "    gr = (sig_vec(train_X @ theta) - train_Y).T @ train_X\n",
    "    gr = gr.T\n",
    "    return gr"
   ]
  },
  {
   "cell_type": "code",
   "execution_count": 362,
   "metadata": {
    "collapsed": true
   },
   "outputs": [],
   "source": [
    "def train(train_X, train_Y, theta, error, ita):\n",
    "    while True:\n",
    "        gradient = get_gradient(train_X, train_Y, theta)\n",
    "        new_theta = theta - ita * gradient\n",
    "        if abs(cost_function(theta,train_X, train_Y) - cost_function(new_theta, train_X, train_Y)) < error:\n",
    "            break\n",
    "        theta = new_theta\n",
    "    return theta"
   ]
  },
  {
   "cell_type": "code",
   "execution_count": null,
   "metadata": {},
   "outputs": [],
   "source": [
    "# TODO: need to fix exp overflow\n",
    "theta_ret = train(train_X, train_Y, theta, error, ita)"
   ]
  },
  {
   "cell_type": "code",
   "execution_count": null,
   "metadata": {
    "collapsed": true
   },
   "outputs": [],
   "source": []
  },
  {
   "cell_type": "code",
   "execution_count": null,
   "metadata": {
    "collapsed": true
   },
   "outputs": [],
   "source": []
  },
  {
   "cell_type": "code",
   "execution_count": 143,
   "metadata": {
    "collapsed": true
   },
   "outputs": [],
   "source": [
    "def test(data_test_pre, theta):\n",
    "    result = sig_vec(data_test_pre[:,:-1] @ theta)\n",
    "    return len(np.where(result > 0.5)) / len(data_test_pre)"
   ]
  }
 ],
 "metadata": {
  "kernelspec": {
   "display_name": "Python 3",
   "language": "python",
   "name": "python3"
  },
  "language_info": {
   "codemirror_mode": {
    "name": "ipython",
    "version": 3
   },
   "file_extension": ".py",
   "mimetype": "text/x-python",
   "name": "python",
   "nbconvert_exporter": "python",
   "pygments_lexer": "ipython3",
   "version": "3.6.1"
  }
 },
 "nbformat": 4,
 "nbformat_minor": 2
}
