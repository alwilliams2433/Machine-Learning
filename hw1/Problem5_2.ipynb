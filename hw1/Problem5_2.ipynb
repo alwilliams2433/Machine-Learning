{
 "cells": [
  {
   "cell_type": "code",
   "execution_count": null,
   "metadata": {
    "collapsed": true
   },
   "outputs": [],
   "source": [
    "#Problem 5-2 KNN"
   ]
  },
  {
   "cell_type": "code",
   "execution_count": 139,
   "metadata": {},
   "outputs": [],
   "source": [
    "import scipy\n",
    "import scipy.io\n",
    "import numpy as np\n",
    "import math\n",
    "from sklearn.preprocessing import scale\n",
    "from sklearn.feature_selection import SelectKBest\n",
    "from sklearn.feature_selection import chi2\n",
    "from collections import Counter\n",
    "import matplotlib.pyplot as plt"
   ]
  },
  {
   "cell_type": "code",
   "execution_count": 140,
   "metadata": {},
   "outputs": [],
   "source": [
    "data = scipy.io.loadmat('hw1data.mat')"
   ]
  },
  {
   "cell_type": "code",
   "execution_count": 141,
   "metadata": {},
   "outputs": [
    {
     "data": {
      "text/plain": [
       "(10000, 200)"
      ]
     },
     "execution_count": 141,
     "metadata": {},
     "output_type": "execute_result"
    }
   ],
   "source": [
    "X = data['X']\n",
    "Y = data['Y']\n",
    "X = SelectKBest(chi2, k=200).fit_transform(X, Y)\n",
    "X = scale(X * 1.0)\n",
    "X.shape"
   ]
  },
  {
   "cell_type": "code",
   "execution_count": 133,
   "metadata": {},
   "outputs": [
    {
     "name": "stdout",
     "output_type": "stream",
     "text": [
      "(8000, 200)\n",
      "(8000, 1)\n",
      "(2000, 200)\n",
      "(2000, 1)\n"
     ]
    }
   ],
   "source": [
    "ratio = 0.8\n",
    "X_train = X[:int(len(X)*0.8)]\n",
    "Y_train = Y[:int(len(X)*0.8)]\n",
    "X_test = X[int(len(X)*0.8):]\n",
    "Y_test = Y[int(len(X)*0.8):]\n",
    "print(X_train.shape)\n",
    "print(Y_train.shape)\n",
    "print(X_test.shape)\n",
    "print(Y_test.shape)"
   ]
  },
  {
   "cell_type": "code",
   "execution_count": 142,
   "metadata": {
    "collapsed": true
   },
   "outputs": [],
   "source": [
    "def KNN(X_train, Y_train, x, norm, k):\n",
    "    rank = []\n",
    "    for i in range(len(X_train)):\n",
    "        dist = np.linalg.norm(x - X_train[i], ord = norm) \n",
    "        rank.append((dist, Y_train[i][0]))\n",
    "    rank_sorted = sorted(rank, key=lambda dis: dis[0])  \n",
    "    rank_sorted = rank_sorted[:k]\n",
    "    count = Counter(item[1] for item in rank_sorted)\n",
    "    return count.most_common(1)[0][0]"
   ]
  },
  {
   "cell_type": "code",
   "execution_count": 135,
   "metadata": {},
   "outputs": [
    {
     "name": "stdout",
     "output_type": "stream",
     "text": [
      "9\n"
     ]
    }
   ],
   "source": [
    "print(KNN(X_train, Y_train, X[8000], None, 90))"
   ]
  },
  {
   "cell_type": "code",
   "execution_count": 143,
   "metadata": {},
   "outputs": [],
   "source": [
    "def test(X, Y, ratio, norm, k):\n",
    "    X_train = X[:int(len(X) * ratio)]\n",
    "    Y_train = Y[:int(len(X) * ratio)]\n",
    "    X_test = X[int(len(X) * ratio):]\n",
    "    Y_test = Y[int(len(X) * ratio):]\n",
    "    tally = 0\n",
    "    for i in range(len(X_test)):\n",
    "        if KNN(X_train, Y_train, X_test[i], norm, k) == Y_test[i][0]: tally += 1\n",
    "    return tally / len(X_test)"
   ]
  },
  {
   "cell_type": "code",
   "execution_count": 121,
   "metadata": {},
   "outputs": [
    {
     "name": "stdout",
     "output_type": "stream",
     "text": [
      "[0.762, 0.736, 0.721, 0.712, 0.697, 0.667]\n"
     ]
    }
   ],
   "source": [
    "#Without feature selection\n",
    "\n",
    "k_list = []\n",
    "k_list.append(60)\n",
    "k_list.append(120)\n",
    "k_list.append(180)\n",
    "k_list.append(240)\n",
    "k_list.append(300)\n",
    "k_list.append(500)\n",
    "\n",
    "error = []\n",
    "\n",
    "for k in k_list:\n",
    "    error.append(test(X,Y,0.9, None, k))\n",
    "print(error)"
   ]
  },
  {
   "cell_type": "code",
   "execution_count": 146,
   "metadata": {},
   "outputs": [
    {
     "name": "stdout",
     "output_type": "stream",
     "text": [
      "[0.826125]\n"
     ]
    }
   ],
   "source": [
    "#With feature selection\n",
    "k_list = []\n",
    "k_list.append(20)\n",
    "\n",
    "\n",
    "\n",
    "error = []\n",
    "\n",
    "for k in k_list:\n",
    "    error.append(test(X,Y,0.2, None, k))\n",
    "print(error)"
   ]
  },
  {
   "cell_type": "code",
   "execution_count": 123,
   "metadata": {},
   "outputs": [
    {
     "name": "stdout",
     "output_type": "stream",
     "text": [
      "0.784\n"
     ]
    }
   ],
   "source": [
    "print(test(X,Y,0.9,None,20))"
   ]
  },
  {
   "cell_type": "code",
   "execution_count": 124,
   "metadata": {},
   "outputs": [
    {
     "name": "stdout",
     "output_type": "stream",
     "text": [
      "0.788\n"
     ]
    }
   ],
   "source": [
    "print(test(X,Y,0.9,None,10))"
   ]
  },
  {
   "cell_type": "code",
   "execution_count": 125,
   "metadata": {},
   "outputs": [
    {
     "name": "stdout",
     "output_type": "stream",
     "text": [
      "0.788\n"
     ]
    }
   ],
   "source": [
    "print(test(X,Y,0.9,None,15))"
   ]
  },
  {
   "cell_type": "code",
   "execution_count": 126,
   "metadata": {},
   "outputs": [
    {
     "name": "stdout",
     "output_type": "stream",
     "text": [
      "[0.7845, 0.777, 0.7645, 0.7545, 0.741, 0.736]\n"
     ]
    }
   ],
   "source": [
    "k_list = []\n",
    "k_list.append(10)\n",
    "k_list.append(30)\n",
    "k_list.append(50)\n",
    "k_list.append(70)\n",
    "k_list.append(90)\n",
    "k_list.append(110)\n",
    "\n",
    "error = []\n",
    "\n",
    "for k in k_list:\n",
    "    error.append(test(X,Y,0.8, None, k))\n",
    "print(error)"
   ]
  },
  {
   "cell_type": "code",
   "execution_count": 127,
   "metadata": {},
   "outputs": [
    {
     "name": "stdout",
     "output_type": "stream",
     "text": [
      "[0.7803333333333333, 0.774, 0.7646666666666667, 0.7493333333333333, 0.7436666666666667, 0.7393333333333333]\n"
     ]
    }
   ],
   "source": [
    "k_list = []\n",
    "k_list.append(10)\n",
    "k_list.append(30)\n",
    "k_list.append(50)\n",
    "k_list.append(70)\n",
    "k_list.append(90)\n",
    "k_list.append(110)\n",
    "\n",
    "error = []\n",
    "\n",
    "for k in k_list:\n",
    "    error.append(test(X,Y,0.7, None, k))\n",
    "print(error)"
   ]
  },
  {
   "cell_type": "code",
   "execution_count": null,
   "metadata": {
    "collapsed": true
   },
   "outputs": [],
   "source": []
  }
 ],
 "metadata": {
  "kernelspec": {
   "display_name": "Python 3",
   "language": "python",
   "name": "python3"
  },
  "language_info": {
   "codemirror_mode": {
    "name": "ipython",
    "version": 3
   },
   "file_extension": ".py",
   "mimetype": "text/x-python",
   "name": "python",
   "nbconvert_exporter": "python",
   "pygments_lexer": "ipython3",
   "version": "3.6.1"
  }
 },
 "nbformat": 4,
 "nbformat_minor": 2
}
