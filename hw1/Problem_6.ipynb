{
 "cells": [
  {
   "cell_type": "code",
   "execution_count": 23,
   "metadata": {
    "collapsed": true
   },
   "outputs": [],
   "source": [
    "#Problem 6 - Building Decision Tree\n",
    "#Xingchen Zhou"
   ]
  },
  {
   "cell_type": "code",
   "execution_count": 58,
   "metadata": {
    "collapsed": true
   },
   "outputs": [],
   "source": [
    "import scipy\n",
    "import scipy.io\n",
    "import numpy as np\n",
    "import math\n",
    "from sklearn.preprocessing import scale\n",
    "from sklearn.feature_selection import SelectKBest\n",
    "from sklearn.feature_selection import chi2\n",
    "from collections import Counter\n",
    "import matplotlib.pyplot as plt\n",
    "import queue"
   ]
  },
  {
   "cell_type": "code",
   "execution_count": 59,
   "metadata": {
    "collapsed": true
   },
   "outputs": [],
   "source": [
    "# Loading and Preprocessing data\n",
    "data = scipy.io.loadmat('hw1data.mat')\n",
    "X = data['X']\n",
    "Y = data['Y']\n",
    "X = SelectKBest(chi2, k=200).fit_transform(X, Y)  #Select top 200 features with highest variance\n"
   ]
  },
  {
   "cell_type": "code",
   "execution_count": 60,
   "metadata": {
    "collapsed": true
   },
   "outputs": [],
   "source": [
    "class TreeNode:\n",
    "    def __init__(self, threshold, feature, decision):\n",
    "        self.threshold = threshold \n",
    "        self.feature = feature     #Range: 0 to 199\n",
    "        self.decision = decision   #Range: 0 to 9\n",
    "        self.left = None\n",
    "        self.right = None\n",
    "        "
   ]
  },
  {
   "cell_type": "code",
   "execution_count": 61,
   "metadata": {
    "collapsed": true
   },
   "outputs": [],
   "source": [
    "# Calculate entropy(information purity)\n",
    "# indicies is a list containing the current group's numbers \n",
    "# Y contains assigned labels\n",
    "def entropy(indices, Y):\n",
    "    sum_value = 0\n",
    "    label_tally = [0]\n",
    "    label_tally *= 10\n",
    "    for index in indices:\n",
    "        label_tally[Y[index][0]] += 1\n",
    "    for label in label_tally:\n",
    "        if label == 0: continue  #The tally number of a particular is zero\n",
    "        sum_value += label / len(indices) * math.log(len(indices) / label, 2)\n",
    "    return sum_value\n"
   ]
  },
  {
   "cell_type": "code",
   "execution_count": 74,
   "metadata": {
    "collapsed": true
   },
   "outputs": [],
   "source": [
    "# ID3 Algorithm Implementation\n",
    "# The hyperparameter K is the depth of the tree that we want to build\n",
    "def buildTreeNode(X, Y, indices, selected_features, depth):\n",
    "    #Base case 1: Build a terminal node based on the majority label when depth is 0\n",
    "    if depth == 0: \n",
    "        label = [0]\n",
    "        label *= 10\n",
    "        for index in indices:\n",
    "            label[Y[index][0]] += 1\n",
    "        majority_index = label.index(max(label))\n",
    "        new_treenode = TreeNode(None, None, majority_index)\n",
    "        return new_treenode\n",
    "    \n",
    "    #Base case 2: all examples have the same label; Create a terminal node and return\n",
    "    label = [0]\n",
    "    label *= 10\n",
    "    for index in indices:\n",
    "        label[Y[index][0]] +=1\n",
    "    if len(indices) in label:\n",
    "        new_treenode = TreeNode(None, None, label.index(len(indices)))  \n",
    "        return new_treenode\n",
    "    \n",
    "    \n",
    "\n",
    "    threshold_list = [i * 10 for i in range(1,25,4)] # For faster training time: can be improved if select smaller step\n",
    "    \n",
    "    group1 = []\n",
    "    group2 = []\n",
    "    optimal_feature_index = 0\n",
    "    optimal_threshold = 0\n",
    "    initial_entropy = entropy(indices, Y)\n",
    "    max_gain_so_far = 0\n",
    "    \n",
    "    for i in range(len(X[0])):\n",
    "        if i not in selected_features:  # Don't select previously selected features in the tree\n",
    "            for threshold in threshold_list:\n",
    "                tmp_group1 = []\n",
    "                tmp_group2 = []\n",
    "\n",
    "#                 print(\"This is the feature: \" + str(i)) #debug\n",
    "#                 print(\"This is the threshold: \" + str(threshold)) #debug\n",
    "#                 print(\"Depth left to build: \" + str(depth))  #debug\n",
    "\n",
    "                for j in indices:\n",
    "                    if X[j][i] < threshold: tmp_group1.append(j)\n",
    "                    else: tmp_group2.append(j)\n",
    "\n",
    "                if len(tmp_group1) == len(indices) or len(tmp_group1) == 0: continue  #This paticular feature and threshold doesn't yield any information gain\n",
    "\n",
    "#                 print(\"size of group 1: \" + str(len(tmp_group1))) #debug\n",
    "#                 print(\"size of group 2: \" + str(len(tmp_group2))) #debug\n",
    "\n",
    "                tmp_gain = initial_entropy - entropy(tmp_group1, Y) * len(tmp_group1) / len(indices) - \\\n",
    "                entropy(tmp_group2, Y) * len(tmp_group2) / len(indices)\n",
    "\n",
    "                if tmp_gain > max_gain_so_far: \n",
    "                    max_gain_so_far = tmp_gain\n",
    "                    group1 = tmp_group1\n",
    "                    group2 = tmp_group2\n",
    "                    optimal_feature_index = i\n",
    "                    optimal_threshold = threshold\n",
    "                \n",
    "               \n",
    "    new_treenode = TreeNode(optimal_threshold, optimal_feature_index, None)\n",
    "    selected_features.add(optimal_feature_index)\n",
    "    s1 = set(selected_features)\n",
    "    s2 = set(selected_features)\n",
    "    new_treenode.left = buildTreeNode(X, Y, group1, s1, depth - 1)\n",
    "    new_treenode.right = buildTreeNode(X, Y, group2, s2, depth - 1)\n",
    "\n",
    "    return new_treenode"
   ]
  },
  {
   "cell_type": "code",
   "execution_count": 75,
   "metadata": {
    "collapsed": true
   },
   "outputs": [],
   "source": [
    "# Get the classification (predicated label: 0 ~ 9) for a particular image\n",
    "def getDecision(root, index, X):\n",
    "    if root == None: return -1\n",
    "    if root.decision != None: return root.decision\n",
    "    \n",
    "    if X[index][root.feature] < root.threshold: return getDecision(root.left, index, X)\n",
    "    else: return getDecision(root.right, index, X)  "
   ]
  },
  {
   "cell_type": "code",
   "execution_count": 64,
   "metadata": {
    "collapsed": true
   },
   "outputs": [],
   "source": [
    "# Visualize the decision tree (can be improved to enhance visibility)\n",
    "def treeLevelOrderTraversal(root):\n",
    "    if root == None: return\n",
    "    q = queue.Queue()\n",
    "    q.put(root)\n",
    "    count = 1\n",
    "    while q.qsize() != 0:\n",
    "        cur_size = q.qsize()\n",
    "        print(\"Layer: \" + str(count))\n",
    "        while cur_size != 0:\n",
    "            tmp_treenode = q.get()\n",
    "            cur_size -= 1\n",
    "            if tmp_treenode.decision != None: \n",
    "                print(tmp_treenode.decision)\n",
    "                continue\n",
    "            print(\"Threshold \" + str(tmp_treenode.threshold) + \" \", end='')\n",
    "            print(\"Feature \" + str(tmp_treenode.feature) + \" \", end='')\n",
    "            if tmp_treenode.left != None: q.put(tmp_treenode.left)\n",
    "            if tmp_treenode.right != None: q.put(tmp_treenode.right)\n",
    "        print()\n",
    "        count += 1"
   ]
  },
  {
   "cell_type": "markdown",
   "metadata": {},
   "source": [
    "import timeit\n",
    "\n",
    "indices = list(range(8000))\n",
    "selected_features = set()\n",
    "\n",
    "start = timeit.default_timer()\n",
    "\n",
    "treeNode_ = buildTreeNode(X, Y, indices, selected_features, 15)\n",
    "\n",
    "stop = timeit.default_timer()\n",
    "print(\"Total running time: \" + str(stop - start))"
   ]
  },
  {
   "cell_type": "markdown",
   "metadata": {},
   "source": [
    "treeLevelOrderTraversal(treeNode_)"
   ]
  },
  {
   "cell_type": "code",
   "execution_count": 84,
   "metadata": {},
   "outputs": [],
   "source": [
    "# Return accuracy\n",
    "# root: decision tree's root\n",
    "# indices: test data\n",
    "def test(root, indices):\n",
    "#     indices = [i for i in range(8000, 10000)]\n",
    "    count_correct = 0\n",
    "    for index in indices:\n",
    "        if getDecision(root, index, X) == Y[index][0]: count_correct += 1\n",
    "#     print(\"We have predicated \" + str(count_correct) + \" times correctly out of \" + str(len(indices)) + \" !\")\n",
    "    return count_correct / len(indices)"
   ]
  },
  {
   "cell_type": "markdown",
   "metadata": {},
   "source": []
  },
  {
   "cell_type": "code",
   "execution_count": 98,
   "metadata": {
    "collapsed": true
   },
   "outputs": [],
   "source": [
    "# Problem 2: random split data - training:testing = 8/2\n",
    "# Plot the training error and test error as a function of K\n",
    "\n",
    "# e.g. depth_list = [1,2,3,4,5,...,20]\n",
    "# Returns two dictionaries - training_error and testing_error\n",
    "def errorTestingWithDifferentDepth(depth_list):\n",
    "    indices_training = list(range(8000))\n",
    "    indices_testing = list(range(8000, 10000))\n",
    "    training_error = {}\n",
    "    testing_error = {}\n",
    "\n",
    "    for depth in depth_list:\n",
    "        selected_features = set()\n",
    "        root = buildTreeNode(X, Y, indices_training, selected_features, depth)\n",
    "        training_error[depth] = test(root, indices_training)\n",
    "        testing_error[depth] = test(root, indices_testing)\n",
    "    \n",
    "    return training_error, testing_error"
   ]
  },
  {
   "cell_type": "code",
   "execution_count": 99,
   "metadata": {},
   "outputs": [
    {
     "name": "stdout",
     "output_type": "stream",
     "text": [
      "[2, 4, 6, 8, 10]\n",
      "[10, 12, 14, 16, 18, 20]\n"
     ]
    }
   ],
   "source": [
    "# Different depths we want to try\n",
    "# Split into two tests in case something goes wrong\n",
    "depth_list1 = [i for i in range(2,11,2)]\n",
    "print(depth_list1)\n",
    "depth_list2 = [i for i in range(10,22,2)]\n",
    "print(depth_list2)"
   ]
  },
  {
   "cell_type": "code",
   "execution_count": 100,
   "metadata": {
    "collapsed": true
   },
   "outputs": [],
   "source": [
    "# Training:Testing = 8/2 - Training error and testing error when depth is 2, 4, 6, 8, 10\n",
    "training_error1, testing_error1 = errorTestingWithDifferentDepth(depth_list1)"
   ]
  },
  {
   "cell_type": "code",
   "execution_count": 106,
   "metadata": {
    "collapsed": true
   },
   "outputs": [],
   "source": [
    "# Training:Testing = 8/2 - Training error and testing error when depth is 10, 12, 14, 16, 18, 20\n",
    "training_error2, testing_error2 = errorTestingWithDifferentDepth(depth_list2)"
   ]
  },
  {
   "cell_type": "code",
   "execution_count": 110,
   "metadata": {},
   "outputs": [
    {
     "name": "stdout",
     "output_type": "stream",
     "text": [
      "dict_keys([2, 4, 6, 8, 10])\n"
     ]
    }
   ],
   "source": [
    "print(training_error1.keys())"
   ]
  },
  {
   "cell_type": "code",
   "execution_count": 111,
   "metadata": {},
   "outputs": [
    {
     "name": "stdout",
     "output_type": "stream",
     "text": [
      "dict_values([0.357, 0.594375, 0.741875, 0.848125, 0.944])\n"
     ]
    }
   ],
   "source": [
    "print(training_error1.values())"
   ]
  },
  {
   "cell_type": "code",
   "execution_count": 105,
   "metadata": {},
   "outputs": [
    {
     "name": "stdout",
     "output_type": "stream",
     "text": [
      "dict_values([0.3525, 0.5875, 0.711, 0.7635, 0.7845])\n"
     ]
    }
   ],
   "source": [
    "print(testing_error1.values())"
   ]
  },
  {
   "cell_type": "code",
   "execution_count": 112,
   "metadata": {},
   "outputs": [
    {
     "name": "stdout",
     "output_type": "stream",
     "text": [
      "dict_keys([10, 12, 14, 16, 18, 20])\n"
     ]
    }
   ],
   "source": [
    "print(training_error2.keys())"
   ]
  },
  {
   "cell_type": "code",
   "execution_count": 113,
   "metadata": {},
   "outputs": [
    {
     "name": "stdout",
     "output_type": "stream",
     "text": [
      "dict_values([0.944, 0.984875, 0.993875, 0.99775, 0.99925, 1.0])\n"
     ]
    }
   ],
   "source": [
    "print(training_error2.values())"
   ]
  },
  {
   "cell_type": "code",
   "execution_count": 114,
   "metadata": {},
   "outputs": [
    {
     "name": "stdout",
     "output_type": "stream",
     "text": [
      "dict_values([0.7845, 0.787, 0.785, 0.7835, 0.785, 0.784])\n"
     ]
    }
   ],
   "source": [
    "print(testing_error2.values())"
   ]
  },
  {
   "cell_type": "code",
   "execution_count": 163,
   "metadata": {},
   "outputs": [
    {
     "name": "stdout",
     "output_type": "stream",
     "text": [
      "[0.357, 0.594375, 0.741875, 0.848125, 0.944, 0.984875, 0.993875, 0.99775, 0.99925, 1.0]\n",
      "[0.3525, 0.5875, 0.711, 0.7635, 0.7845, 0.787, 0.785, 0.7835, 0.785, 0.784]\n"
     ]
    }
   ],
   "source": [
    "hyper_k = [i for i in range(2,21,2)]\n",
    "\n",
    "training_error_list = []\n",
    "training_error_list += list(training_error1.values())[:-1]\n",
    "training_error_list += list(training_error2.values())\n",
    "\n",
    "testing_error_list = []\n",
    "testing_error_list += list(testing_error1.values())[:-1]\n",
    "testing_error_list += list(testing_error2.values())\n",
    "\n",
    "\n",
    "print(training_error_list)\n",
    "print(testing_error_list)\n",
    "\n",
    "training_error_list = [1 - val for val in training_error_list]\n",
    "testing_error_list = [1 - val for val in testing_error_list]"
   ]
  },
  {
   "cell_type": "code",
   "execution_count": 164,
   "metadata": {},
   "outputs": [
    {
     "data": {
      "image/png": "[encoded data removed]",
      "text/plain": [
       "<matplotlib.figure.Figure at 0x11e6a3b00>"
      ]
     },
     "metadata": {},
     "output_type": "display_data"
    }
   ],
   "source": [
    "plt.plot(hyper_k, training_error_list, '-b', label = \"Training Error\")\n",
    "plt.plot(hyper_k, testing_error_list, '-r', label = \"Testing Error\")\n",
    "plt.legend()\n",
    "plt.xlabel(\"Decision Tree Depth\")\n",
    "plt.ylabel(\"Error\")\n",
    "plt.title(\"Problem 2: Traing & Testing Error as Depth Increases\")\n",
    "plt.show()"
   ]
  },
  {
   "cell_type": "markdown",
   "metadata": {},
   "source": []
  },
  {
   "cell_type": "code",
   "execution_count": 115,
   "metadata": {
    "collapsed": true
   },
   "outputs": [],
   "source": [
    "# Problem 3: for a different random splits, how the trends of training/testing error change?\n",
    "\n",
    "# Random split data - training:testing = 7/3\n",
    "# e.g. depth_list = [1,2,3,4,5,...,20]\n",
    "# Returns two dictionaries - training_error and testing_error\n",
    "def errorTestingWithDifferentDepth1(depth_list):\n",
    "    indices_training = list(range(7000))\n",
    "    indices_testing = list(range(7000, 10000))\n",
    "    training_error = {}\n",
    "    testing_error = {}\n",
    "\n",
    "    for depth in depth_list:\n",
    "        selected_features = set()\n",
    "        root = buildTreeNode(X, Y, indices_training, selected_features, depth)\n",
    "        training_error[depth] = test(root, indices_training)\n",
    "        testing_error[depth] = test(root, indices_testing)\n",
    "    \n",
    "    return training_error, testing_error\n",
    "\n"
   ]
  },
  {
   "cell_type": "code",
   "execution_count": 116,
   "metadata": {
    "collapsed": true
   },
   "outputs": [],
   "source": [
    "training_error3, testing_error3 = errorTestingWithDifferentDepth1(depth_list1)"
   ]
  },
  {
   "cell_type": "code",
   "execution_count": 119,
   "metadata": {
    "collapsed": true
   },
   "outputs": [],
   "source": [
    "training_error4, testing_error4 = errorTestingWithDifferentDepth1(depth_list2)"
   ]
  },
  {
   "cell_type": "code",
   "execution_count": 161,
   "metadata": {},
   "outputs": [
    {
     "name": "stdout",
     "output_type": "stream",
     "text": [
      "[0.34185714285714286, 0.5832857142857143, 0.74, 0.8494285714285714, 0.956, 0.9905714285714285, 0.9957142857142857, 0.9978571428571429, 0.9998571428571429, 1.0]\n",
      "[0.32466666666666666, 0.5746666666666667, 0.699, 0.764, 0.779, 0.7783333333333333, 0.7773333333333333, 0.7766666666666666, 0.777, 0.777]\n"
     ]
    }
   ],
   "source": [
    "training_error_list1 = []\n",
    "training_error_list1 += list(training_error3.values())[:-1]\n",
    "training_error_list1 += list(training_error4.values())\n",
    "\n",
    "testing_error_list1 = []\n",
    "testing_error_list1 += list(testing_error3.values())[:-1]\n",
    "testing_error_list1 += list(testing_error4.values())\n",
    "\n",
    "print(training_error_list1)\n",
    "print(testing_error_list1)\n",
    "training_error_list1 = [1 - val for val in training_error_list1]\n",
    "testing_error_list1 = [1 - val for val in testing_error_list1]"
   ]
  },
  {
   "cell_type": "code",
   "execution_count": 162,
   "metadata": {},
   "outputs": [
    {
     "data": {
      "image/png": "[encoded data removed]",
      "text/plain": [
       "<matplotlib.figure.Figure at 0x11e9d4550>"
      ]
     },
     "metadata": {},
     "output_type": "display_data"
    }
   ],
   "source": [
    "plt.plot(hyper_k, training_error_list1, '-b', label = \"Training Error\")\n",
    "plt.plot(hyper_k, testing_error_list1, '-r', label = \"Testing Error\")\n",
    "plt.legend()\n",
    "plt.xlabel(\"Decision Tree Depth\")\n",
    "plt.ylabel(\"Error\")\n",
    "plt.title(\"Problem 3: Traing & Testing Error as Depth Increases\")\n",
    "plt.show()"
   ]
  },
  {
   "cell_type": "code",
   "execution_count": null,
   "metadata": {
    "collapsed": true
   },
   "outputs": [],
   "source": []
  }
 ],
 "metadata": {
  "kernelspec": {
   "display_name": "Python 3",
   "language": "python",
   "name": "python3"
  },
  "language_info": {
   "codemirror_mode": {
    "name": "ipython",
    "version": 3
   },
   "file_extension": ".py",
   "mimetype": "text/x-python",
   "name": "python",
   "nbconvert_exporter": "python",
   "pygments_lexer": "ipython3",
   "version": "3.6.1"
  }
 },
 "nbformat": 4,
 "nbformat_minor": 2
}
