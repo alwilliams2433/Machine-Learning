{
 "cells": [
  {
   "cell_type": "code",
   "execution_count": 36,
   "metadata": {
    "collapsed": true
   },
   "outputs": [],
   "source": [
    "#Problem 5-1: Bayesian Classifier\n",
    "#Xingchen Zhou"
   ]
  },
  {
   "cell_type": "code",
   "execution_count": 37,
   "metadata": {
    "collapsed": true
   },
   "outputs": [],
   "source": [
    "import scipy.io\n",
    "import numpy as np\n",
    "import math\n",
    "from sklearn.preprocessing import scale\n",
    "from sklearn.feature_selection import SelectKBest\n",
    "from sklearn.feature_selection import chi2\n",
    "from sklearn.model_selection import train_test_split"
   ]
  },
  {
   "cell_type": "code",
   "execution_count": 38,
   "metadata": {
    "collapsed": true,
    "scrolled": true
   },
   "outputs": [],
   "source": [
    "mat = scipy.io.loadmat('hw1data.mat')"
   ]
  },
  {
   "cell_type": "code",
   "execution_count": 39,
   "metadata": {},
   "outputs": [
    {
     "name": "stdout",
     "output_type": "stream",
     "text": [
      "(10000, 784)\n",
      "(10000, 1)\n"
     ]
    }
   ],
   "source": [
    "X = np.array(mat['X'])\n",
    "Y = np.array(mat['Y'])\n",
    "print(X.shape)\n",
    "print(Y.shape)"
   ]
  },
  {
   "cell_type": "code",
   "execution_count": 40,
   "metadata": {},
   "outputs": [
    {
     "name": "stdout",
     "output_type": "stream",
     "text": [
      "(10000, 200)\n",
      "(10000, 1)\n"
     ]
    }
   ],
   "source": [
    "#Preprosessing data\n",
    "X = SelectKBest(chi2, k=200).fit_transform(X, Y)\n",
    "X = scale(X * 1.0)\n",
    "print(X.shape)\n",
    "print(Y.shape)"
   ]
  },
  {
   "cell_type": "code",
   "execution_count": 41,
   "metadata": {
    "collapsed": true
   },
   "outputs": [],
   "source": [
    "def train(X, Y):\n",
    "    cPrior = [] #cPrior[i] is the number of occurrence of label i in Y\n",
    "    mui = [] #Stores a list of u for 10 gassuian models respectively\n",
    "    covariance_matrices = []\n",
    "\n",
    "    for i in range(10):\n",
    "        cPrior.append(0.0)\n",
    "        mui.append(np.zeros(shape=(200,1)))\n",
    "        covariance_matrices.append(np.zeros(shape=(200,200)))\n",
    "\n",
    "    for label in Y:\n",
    "        cPrior[label[0]] += 1    \n",
    "\n",
    "    print(cPrior)\n",
    "    print(mui[0].shape)\n",
    "    print(covariance_matrices[0].shape)\n",
    "    \n",
    "    #Initilize mui\n",
    "    for i in range(len(X)):\n",
    "        mui[Y[i][0]] += np.matrix(X[i]).T\n",
    "\n",
    "    for i in range(10):\n",
    "        mui[i] /= cPrior[i] \n",
    "        \n",
    "    #Initilize covariance matrix\n",
    "    for i in range(len(X)):\n",
    "        covariance_matrices[Y[i][0]] += (np.matrix(X[i]).T - mui[Y[i][0]]) @ (np.matrix(X[i]).T - mui[Y[i][0]]).T\n",
    "\n",
    "    for i in range(10):\n",
    "        covariance_matrices[i] /= cPrior[i]\n",
    "        covariance_matrices[i] += np.identity(len(X[0])) * 0.1\n",
    "    \n",
    "    return mui, covariance_matrices"
   ]
  },
  {
   "cell_type": "code",
   "execution_count": 42,
   "metadata": {
    "collapsed": true
   },
   "outputs": [],
   "source": [
    "def bayesian_classifier(mui, covariance_matrices, x):\n",
    "    maxP = 0\n",
    "    label = 0\n",
    "    for i in range(10):\n",
    "        probability =  1/ math.sqrt(np.linalg.det(covariance_matrices[i]) )   * pow(2*math.pi,-100)* \\\n",
    "        pow(math.e, -1/2 * float(((np.matrix(x).T - mui[i]).T @ np.linalg.inv(covariance_matrices[i]) @ (np.matrix(x).T - mui[i]))[0][0])) * \\\n",
    "        cPrior[i] / 10000.0\n",
    "        if probability > maxP: \n",
    "            label = i\n",
    "            maxP = probability\n",
    "    return label"
   ]
  },
  {
   "cell_type": "code",
   "execution_count": 46,
   "metadata": {
    "collapsed": true
   },
   "outputs": [],
   "source": [
    "def test_accuracy(mui, covariance_matrices, X_test, Y_test):\n",
    "    time = 0\n",
    "    for i in range(len(X_test)):\n",
    "        if bayesian_classifier(mui, covariance_matrices, X_test[i]) == Y_test[i][0]: time += 1\n",
    "    return time / len(X_test)"
   ]
  },
  {
   "cell_type": "code",
   "execution_count": 47,
   "metadata": {
    "collapsed": true
   },
   "outputs": [],
   "source": [
    "def test():\n",
    "    ratio = [i * 1000 for i in range(1,10)]\n",
    "    accuracy = []\n",
    "    for i in ratio:\n",
    "        X_train = X[:i]\n",
    "        Y_train = Y[:i]\n",
    "        X_test = X[i:]\n",
    "        Y_test = Y[i:]\n",
    "        mui, covariance_matrices = train(X_train, Y_train)\n",
    "        accuracy.append(test_accuracy(mui, covariance_matrices, X_test, Y_test))\n",
    "    return accuracy"
   ]
  },
  {
   "cell_type": "code",
   "execution_count": 48,
   "metadata": {},
   "outputs": [
    {
     "name": "stdout",
     "output_type": "stream",
     "text": [
      "[99.0, 96.0, 79.0, 109.0, 109.0, 91.0, 98.0, 107.0, 108.0, 104.0]\n",
      "(200, 1)\n",
      "(200, 200)\n",
      "[208.0, 208.0, 183.0, 220.0, 190.0, 199.0, 184.0, 228.0, 189.0, 191.0]\n",
      "(200, 1)\n",
      "(200, 200)\n",
      "[308.0, 332.0, 279.0, 322.0, 274.0, 298.0, 282.0, 324.0, 289.0, 292.0]\n",
      "(200, 1)\n",
      "(200, 200)\n",
      "[400.0, 454.0, 364.0, 425.0, 374.0, 391.0, 372.0, 425.0, 393.0, 402.0]\n",
      "(200, 1)\n",
      "(200, 200)\n",
      "[496.0, 560.0, 468.0, 518.0, 475.0, 479.0, 470.0, 519.0, 501.0, 514.0]\n",
      "(200, 1)\n",
      "(200, 200)\n",
      "[590.0, 666.0, 563.0, 637.0, 581.0, 555.0, 587.0, 623.0, 587.0, 611.0]\n",
      "(200, 1)\n",
      "(200, 200)\n",
      "[695.0, 777.0, 638.0, 751.0, 694.0, 640.0, 689.0, 740.0, 672.0, 704.0]\n",
      "(200, 1)\n",
      "(200, 200)\n",
      "[788.0, 888.0, 747.0, 847.0, 790.0, 717.0, 804.0, 833.0, 777.0, 809.0]\n",
      "(200, 1)\n",
      "(200, 200)\n",
      "[875.0, 1020.0, 829.0, 955.0, 872.0, 814.0, 912.0, 928.0, 879.0, 916.0]\n",
      "(200, 1)\n",
      "(200, 200)\n"
     ]
    }
   ],
   "source": [
    "accuracy_list = test()"
   ]
  },
  {
   "cell_type": "code",
   "execution_count": 49,
   "metadata": {},
   "outputs": [
    {
     "name": "stdout",
     "output_type": "stream",
     "text": [
      "[0.8686666666666667, 0.87725, 0.886, 0.891, 0.889, 0.89125, 0.8926666666666667, 0.9, 0.9]\n"
     ]
    }
   ],
   "source": [
    "print(accuracy_list)"
   ]
  },
  {
   "cell_type": "code",
   "execution_count": 51,
   "metadata": {},
   "outputs": [
    {
     "data": {
      "image/png": "[encoded data removed]",
      "text/plain": [
       "<matplotlib.figure.Figure at 0x122a16c50>"
      ]
     },
     "metadata": {},
     "output_type": "display_data"
    }
   ],
   "source": [
    "import matplotlib.pyplot as plt\n",
    "training_sample_size = [i * 1000 for i in range(1,10)]\n",
    "\n",
    "plt.plot(training_sample_size, accuracy_list, '-b', label = \"Training Accuracy\")\n",
    "plt.legend()\n",
    "plt.xlabel(\"training sample size\")\n",
    "plt.ylabel(\"accuracy\")\n",
    "plt.title(\"Gaussian Classifier\")\n",
    "plt.show()\n"
   ]
  },
  {
   "cell_type": "code",
   "execution_count": null,
   "metadata": {
    "collapsed": true
   },
   "outputs": [],
   "source": []
  }
 ],
 "metadata": {
  "kernelspec": {
   "display_name": "Python 3",
   "language": "python",
   "name": "python3"
  },
  "language_info": {
   "codemirror_mode": {
    "name": "ipython",
    "version": 3
   },
   "file_extension": ".py",
   "mimetype": "text/x-python",
   "name": "python",
   "nbconvert_exporter": "python",
   "pygments_lexer": "ipython3",
   "version": "3.6.1"
  }
 },
 "nbformat": 4,
 "nbformat_minor": 2
}
