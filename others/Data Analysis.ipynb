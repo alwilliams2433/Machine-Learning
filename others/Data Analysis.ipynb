{
 "cells": [
  {
   "cell_type": "code",
   "execution_count": 13,
   "metadata": {},
   "outputs": [
    {
     "data": {
      "text/plain": [
       "'\\nNumpy Practice\\nDataset description: https://archive.ics.uci.edu/ml/datasets/Wine+Quality\\n\\n'"
      ]
     },
     "execution_count": 13,
     "metadata": {},
     "output_type": "execute_result"
    }
   ],
   "source": [
    "'''\n",
    "Data Analysis Tools Review\n",
    "\n",
    "- Usful Tutorial: http://cs231n.github.io/python-numpy-tutorial/#numpy\n",
    "\n",
    "- Dataset description: https://archive.ics.uci.edu/ml/datasets/Wine+Quality\n",
    "\n",
    "- More from cheatsheet PDFs\n",
    "'''"
   ]
  },
  {
   "cell_type": "code",
   "execution_count": 1,
   "metadata": {
    "collapsed": true
   },
   "outputs": [],
   "source": [
    "import csv\n",
    "import numpy as np"
   ]
  },
  {
   "cell_type": "code",
   "execution_count": 2,
   "metadata": {},
   "outputs": [
    {
     "name": "stdout",
     "output_type": "stream",
     "text": [
      "[['fixed acidity', 'volatile acidity', 'citric acid', 'residual sugar', 'chlorides', 'free sulfur dioxide', 'total sulfur dioxide', 'density', 'pH', 'sulphates', 'alcohol', 'quality'], ['7.4', '0.7', '0', '1.9', '0.076', '11', '34', '0.9978', '3.51', '0.56', '9.4', '5'], ['7.8', '0.88', '0', '2.6', '0.098', '25', '67', '0.9968', '3.2', '0.68', '9.8', '5']]\n"
     ]
    }
   ],
   "source": [
    "with open (\"winequality-red.csv\", 'r') as f:\n",
    "    wines = list(csv.reader(f, delimiter = ';'))\n",
    "print(wines[:3])"
   ]
  },
  {
   "cell_type": "code",
   "execution_count": 3,
   "metadata": {
    "collapsed": true
   },
   "outputs": [],
   "source": [
    "qualities = [float(item[-1]) for item in wines[1:]] # Without float, the numbers are strings in []"
   ]
  },
  {
   "cell_type": "code",
   "execution_count": 4,
   "metadata": {},
   "outputs": [
    {
     "data": {
      "text/plain": [
       "5.6325"
      ]
     },
     "execution_count": 4,
     "metadata": {},
     "output_type": "execute_result"
    }
   ],
   "source": [
    "sum(qualities) / len(wines)"
   ]
  },
  {
   "cell_type": "code",
   "execution_count": 5,
   "metadata": {},
   "outputs": [
    {
     "data": {
      "text/plain": [
       "array([[  7.4  ,   0.7  ,   0.   , ...,   0.56 ,   9.4  ,   5.   ],\n",
       "       [  7.8  ,   0.88 ,   0.   , ...,   0.68 ,   9.8  ,   5.   ],\n",
       "       [  7.8  ,   0.76 ,   0.04 , ...,   0.65 ,   9.8  ,   5.   ],\n",
       "       ..., \n",
       "       [  6.3  ,   0.51 ,   0.13 , ...,   0.75 ,  11.   ,   6.   ],\n",
       "       [  5.9  ,   0.645,   0.12 , ...,   0.71 ,  10.2  ,   5.   ],\n",
       "       [  6.   ,   0.31 ,   0.47 , ...,   0.66 ,  11.   ,   6.   ]])"
      ]
     },
     "execution_count": 5,
     "metadata": {},
     "output_type": "execute_result"
    }
   ],
   "source": [
    "# Pass in lists and specify element type; All elements in a numpy array must be in the same type\n",
    "wines = np.array(wines[1:], dtype = np.float) \n",
    "wines"
   ]
  },
  {
   "cell_type": "code",
   "execution_count": 6,
   "metadata": {},
   "outputs": [
    {
     "data": {
      "text/plain": [
       "(1599, 12)"
      ]
     },
     "execution_count": 6,
     "metadata": {},
     "output_type": "execute_result"
    }
   ],
   "source": [
    "wines.shape"
   ]
  },
  {
   "cell_type": "code",
   "execution_count": 7,
   "metadata": {},
   "outputs": [
    {
     "data": {
      "text/plain": [
       "array([[ 0.,  0.,  0.,  0.],\n",
       "       [ 0.,  0.,  0.,  0.],\n",
       "       [ 0.,  0.,  0.,  0.]])"
      ]
     },
     "execution_count": 7,
     "metadata": {},
     "output_type": "execute_result"
    }
   ],
   "source": [
    "np.zeros((3,4))"
   ]
  },
  {
   "cell_type": "code",
   "execution_count": 8,
   "metadata": {},
   "outputs": [
    {
     "data": {
      "text/plain": [
       "array([[ 1.,  1.,  1.,  1.],\n",
       "       [ 1.,  1.,  1.,  1.],\n",
       "       [ 1.,  1.,  1.,  1.]])"
      ]
     },
     "execution_count": 8,
     "metadata": {},
     "output_type": "execute_result"
    }
   ],
   "source": [
    "np.ones((3,4))"
   ]
  },
  {
   "cell_type": "code",
   "execution_count": 9,
   "metadata": {},
   "outputs": [
    {
     "data": {
      "text/plain": [
       "array([[ 1.,  0.,  0.],\n",
       "       [ 0.,  1.,  0.],\n",
       "       [ 0.,  0.,  1.]])"
      ]
     },
     "execution_count": 9,
     "metadata": {},
     "output_type": "execute_result"
    }
   ],
   "source": [
    "# Identity matrix\n",
    "np.eye(3)"
   ]
  },
  {
   "cell_type": "code",
   "execution_count": 10,
   "metadata": {},
   "outputs": [
    {
     "data": {
      "text/plain": [
       "array([[ 0.63950309,  0.93020032,  0.87600877,  0.37376501],\n",
       "       [ 0.51377688,  0.03395061,  0.60518526,  0.5622214 ],\n",
       "       [ 0.30091861,  0.63056602,  0.40066493,  0.6856244 ]])"
      ]
     },
     "execution_count": 10,
     "metadata": {},
     "output_type": "execute_result"
    }
   ],
   "source": [
    "np.random.rand(3,4)"
   ]
  },
  {
   "cell_type": "code",
   "execution_count": 11,
   "metadata": {},
   "outputs": [
    {
     "data": {
      "text/plain": [
       "array([ 0.75880263,  0.28748501,  0.9811786 ])"
      ]
     },
     "execution_count": 11,
     "metadata": {},
     "output_type": "execute_result"
    }
   ],
   "source": [
    "np.random.rand(3)"
   ]
  },
  {
   "cell_type": "code",
   "execution_count": 12,
   "metadata": {},
   "outputs": [
    {
     "data": {
      "text/plain": [
       "array([[  7.4  ,   0.7  ,   0.   , ...,   0.56 ,   9.4  ,   5.   ],\n",
       "       [  7.8  ,   0.88 ,   0.   , ...,   0.68 ,   9.8  ,   5.   ],\n",
       "       [  7.8  ,   0.76 ,   0.04 , ...,   0.65 ,   9.8  ,   5.   ],\n",
       "       ..., \n",
       "       [  6.3  ,   0.51 ,   0.13 , ...,   0.75 ,  11.   ,   6.   ],\n",
       "       [  5.9  ,   0.645,   0.12 , ...,   0.71 ,  10.2  ,   5.   ],\n",
       "       [  6.   ,   0.31 ,   0.47 , ...,   0.66 ,  11.   ,   6.   ]])"
      ]
     },
     "execution_count": 12,
     "metadata": {},
     "output_type": "execute_result"
    }
   ],
   "source": [
    "wines = np.genfromtxt(\"winequality-red.csv\", delimiter=';', skip_header = 1)\n",
    "wines"
   ]
  },
  {
   "cell_type": "code",
   "execution_count": 43,
   "metadata": {},
   "outputs": [
    {
     "data": {
      "text/plain": [
       "2.2999999999999998"
      ]
     },
     "execution_count": 43,
     "metadata": {},
     "output_type": "execute_result"
    }
   ],
   "source": [
    "wines[2,3]"
   ]
  },
  {
   "cell_type": "code",
   "execution_count": 36,
   "metadata": {},
   "outputs": [
    {
     "data": {
      "text/plain": [
       "array([ 7.4,  7.8,  7.8])"
      ]
     },
     "execution_count": 36,
     "metadata": {},
     "output_type": "execute_result"
    }
   ],
   "source": [
    "# Slice: Select first 3 items from column 0\n",
    "wines[0:3, 0]"
   ]
  },
  {
   "cell_type": "code",
   "execution_count": 38,
   "metadata": {},
   "outputs": [
    {
     "data": {
      "text/plain": [
       "array([ 1.9,  2.6,  2.3, ...,  2.3,  2. ,  3.6])"
      ]
     },
     "execution_count": 38,
     "metadata": {},
     "output_type": "execute_result"
    }
   ],
   "source": [
    "# Select entire column: the 3rd column\n",
    "wines[:, 3]"
   ]
  },
  {
   "cell_type": "code",
   "execution_count": 40,
   "metadata": {},
   "outputs": [
    {
     "data": {
      "text/plain": [
       "array([  7.8   ,   0.88  ,   0.    ,   2.6   ,   0.098 ,  25.    ,\n",
       "        67.    ,   0.9968,   3.2   ,   0.68  ,   9.8   ,   5.    ])"
      ]
     },
     "execution_count": 40,
     "metadata": {},
     "output_type": "execute_result"
    }
   ],
   "source": [
    "# Select entire row: the first row\n",
    "wines[1, :]"
   ]
  },
  {
   "cell_type": "code",
   "execution_count": 45,
   "metadata": {
    "collapsed": true
   },
   "outputs": [],
   "source": [
    "# Convert to \"int\" type\n",
    "int_wines = wines.astype(int)"
   ]
  },
  {
   "cell_type": "code",
   "execution_count": 51,
   "metadata": {},
   "outputs": [
    {
     "data": {
      "text/plain": [
       "array([[ 7,  0,  0, ...,  0,  9,  5],\n",
       "       [ 7,  0,  0, ...,  0,  9,  5],\n",
       "       [ 7,  0,  0, ...,  0,  9,  5],\n",
       "       ..., \n",
       "       [ 6,  0,  0, ...,  0, 11,  6],\n",
       "       [ 5,  0,  0, ...,  0, 10,  5],\n",
       "       [ 6,  0,  0, ...,  0, 11,  6]])"
      ]
     },
     "execution_count": 51,
     "metadata": {},
     "output_type": "execute_result"
    }
   ],
   "source": [
    "int_wines"
   ]
  },
  {
   "cell_type": "code",
   "execution_count": 49,
   "metadata": {},
   "outputs": [
    {
     "data": {
      "text/plain": [
       "dtype('int64')"
      ]
     },
     "execution_count": 49,
     "metadata": {},
     "output_type": "execute_result"
    }
   ],
   "source": [
    "int_wines.dtype"
   ]
  },
  {
   "cell_type": "markdown",
   "metadata": {},
   "source": []
  },
  {
   "cell_type": "code",
   "execution_count": 108,
   "metadata": {},
   "outputs": [
    {
     "data": {
      "text/plain": [
       "array([ 6,  7,  8,  9, 10])"
      ]
     },
     "execution_count": 108,
     "metadata": {},
     "output_type": "execute_result"
    }
   ],
   "source": [
    "a1 = np.array([1,2,3,4,5])\n",
    "a2 = a1 + 5\n",
    "a2"
   ]
  },
  {
   "cell_type": "code",
   "execution_count": 57,
   "metadata": {},
   "outputs": [
    {
     "data": {
      "text/plain": [
       "array([ 2,  4,  6,  8, 10])"
      ]
     },
     "execution_count": 57,
     "metadata": {},
     "output_type": "execute_result"
    }
   ],
   "source": [
    "a3 = a1 * 2\n",
    "a3"
   ]
  },
  {
   "cell_type": "code",
   "execution_count": 58,
   "metadata": {},
   "outputs": [
    {
     "data": {
      "text/plain": [
       "array([ 8, 11, 14, 17, 20])"
      ]
     },
     "execution_count": 58,
     "metadata": {},
     "output_type": "execute_result"
    }
   ],
   "source": [
    "a2 + a3"
   ]
  },
  {
   "cell_type": "code",
   "execution_count": 59,
   "metadata": {},
   "outputs": [
    {
     "data": {
      "text/plain": [
       "array([ 12,  28,  48,  72, 100])"
      ]
     },
     "execution_count": 59,
     "metadata": {},
     "output_type": "execute_result"
    }
   ],
   "source": [
    "a2 * a3"
   ]
  },
  {
   "cell_type": "code",
   "execution_count": 109,
   "metadata": {},
   "outputs": [
    {
     "data": {
      "text/plain": [
       "array([ 6,  7, 10, 10, 10])"
      ]
     },
     "execution_count": 109,
     "metadata": {},
     "output_type": "execute_result"
    }
   ],
   "source": [
    "a2[2:] = 10\n",
    "a2"
   ]
  },
  {
   "cell_type": "code",
   "execution_count": 76,
   "metadata": {},
   "outputs": [
    {
     "data": {
      "text/plain": [
       "array([ 13303.1    ,    843.985  ,    433.29   ,   4059.55   ,\n",
       "          139.859  ,  25384.     ,  74302.     ,   1593.79794,\n",
       "         5294.47   ,   1052.38   ,  16666.35   ,   9012.     ])"
      ]
     },
     "execution_count": 76,
     "metadata": {},
     "output_type": "execute_result"
    }
   ],
   "source": [
    "# Sum over columns: if axis = 1, then sum over rows\n",
    "wines.sum(axis = 0)"
   ]
  },
  {
   "cell_type": "code",
   "execution_count": 78,
   "metadata": {},
   "outputs": [
    {
     "data": {
      "text/plain": [
       "array([  9.12775181,  18.3785345 ,  14.4697315 , ...,  12.29881939,\n",
       "        13.60147485,  11.52640133])"
      ]
     },
     "execution_count": 78,
     "metadata": {},
     "output_type": "execute_result"
    }
   ],
   "source": [
    "wines.mean(axis = 0)\n",
    "wines.max(axis = 0)\n",
    "wines.min(axis = 0)\n",
    "wines.std(axis=1)"
   ]
  },
  {
   "cell_type": "markdown",
   "metadata": {},
   "source": []
  },
  {
   "cell_type": "code",
   "execution_count": 81,
   "metadata": {},
   "outputs": [
    {
     "data": {
      "text/plain": [
       "array([False, False, False, ...,  True, False,  True], dtype=bool)"
      ]
     },
     "execution_count": 81,
     "metadata": {},
     "output_type": "execute_result"
    }
   ],
   "source": [
    "wines[:, 11] > 5"
   ]
  },
  {
   "cell_type": "code",
   "execution_count": 97,
   "metadata": {},
   "outputs": [
    {
     "data": {
      "text/plain": [
       "array([[  7.90000000e+00,   3.50000000e-01,   4.60000000e-01,\n",
       "          3.60000000e+00,   7.80000000e-02,   1.50000000e+01,\n",
       "          3.70000000e+01,   9.97300000e-01,   3.35000000e+00,\n",
       "          8.60000000e-01,   1.28000000e+01,   8.00000000e+00],\n",
       "       [  1.03000000e+01,   3.20000000e-01,   4.50000000e-01,\n",
       "          6.40000000e+00,   7.30000000e-02,   5.00000000e+00,\n",
       "          1.30000000e+01,   9.97600000e-01,   3.23000000e+00,\n",
       "          8.20000000e-01,   1.26000000e+01,   8.00000000e+00],\n",
       "       [  5.60000000e+00,   8.50000000e-01,   5.00000000e-02,\n",
       "          1.40000000e+00,   4.50000000e-02,   1.20000000e+01,\n",
       "          8.80000000e+01,   9.92400000e-01,   3.56000000e+00,\n",
       "          8.20000000e-01,   1.29000000e+01,   8.00000000e+00]])"
      ]
     },
     "execution_count": 97,
     "metadata": {},
     "output_type": "execute_result"
    }
   ],
   "source": [
    "high_quality = wines[:,11] > 7\n",
    "wines[high_quality,:][:3,:]"
   ]
  },
  {
   "cell_type": "code",
   "execution_count": 98,
   "metadata": {
    "collapsed": true
   },
   "outputs": [],
   "source": [
    "high_quality_and_alcohol = (wines[:,10] > 10) & (wines[:,11] > 7)"
   ]
  },
  {
   "cell_type": "code",
   "execution_count": 104,
   "metadata": {},
   "outputs": [
    {
     "data": {
      "text/plain": [
       "array([[ 12.8,   8. ],\n",
       "       [ 12.6,   8. ],\n",
       "       [ 12.9,   8. ],\n",
       "       [ 13.4,   8. ],\n",
       "       [ 11.7,   8. ],\n",
       "       [ 11. ,   8. ],\n",
       "       [ 11. ,   8. ],\n",
       "       [ 14. ,   8. ],\n",
       "       [ 12.7,   8. ],\n",
       "       [ 12.5,   8. ],\n",
       "       [ 11.8,   8. ],\n",
       "       [ 13.1,   8. ],\n",
       "       [ 11.7,   8. ],\n",
       "       [ 14. ,   8. ],\n",
       "       [ 11.3,   8. ],\n",
       "       [ 11.4,   8. ]])"
      ]
     },
     "execution_count": 104,
     "metadata": {},
     "output_type": "execute_result"
    }
   ],
   "source": [
    "wines[high_quality_and_alcohol, 10:]"
   ]
  },
  {
   "cell_type": "markdown",
   "metadata": {},
   "source": []
  },
  {
   "cell_type": "code",
   "execution_count": 112,
   "metadata": {},
   "outputs": [
    {
     "data": {
      "text/plain": [
       "(12, 1599)"
      ]
     },
     "execution_count": 112,
     "metadata": {},
     "output_type": "execute_result"
    }
   ],
   "source": [
    "np.transpose(wines).shape"
   ]
  },
  {
   "cell_type": "code",
   "execution_count": 124,
   "metadata": {},
   "outputs": [
    {
     "data": {
      "text/plain": [
       "array([[1, 2, 3],\n",
       "       [2, 3, 4]])"
      ]
     },
     "execution_count": 124,
     "metadata": {},
     "output_type": "execute_result"
    }
   ],
   "source": [
    "# Flatten an array into a long sequence of values\n",
    "array1 = np.array([[1,2,3],[2,3,4]])\n",
    "array1"
   ]
  },
  {
   "cell_type": "code",
   "execution_count": 125,
   "metadata": {},
   "outputs": [
    {
     "data": {
      "text/plain": [
       "array([1, 2, 3, 2, 3, 4])"
      ]
     },
     "execution_count": 125,
     "metadata": {},
     "output_type": "execute_result"
    }
   ],
   "source": [
    "# Flatten an array into a long sequence of values\n",
    "array2 = array1.ravel()\n",
    "array2"
   ]
  },
  {
   "cell_type": "code",
   "execution_count": 126,
   "metadata": {},
   "outputs": [
    {
     "data": {
      "text/plain": [
       "array([[1, 2],\n",
       "       [3, 2],\n",
       "       [3, 4]])"
      ]
     },
     "execution_count": 126,
     "metadata": {},
     "output_type": "execute_result"
    }
   ],
   "source": [
    "# Reshape an array to a certain type we specify\n",
    "array2.reshape((3,2))"
   ]
  },
  {
   "cell_type": "code",
   "execution_count": 137,
   "metadata": {},
   "outputs": [
    {
     "name": "stdout",
     "output_type": "stream",
     "text": [
      "[[ 9 25]\n",
      " [12 27]]\n"
     ]
    },
    {
     "data": {
      "text/plain": [
       "32"
      ]
     },
     "execution_count": 137,
     "metadata": {},
     "output_type": "execute_result"
    }
   ],
   "source": [
    "# Matrix multiplication and vector innter product(dot product)\n",
    "array3 = np.array([[1,2],[2,3],[1,5]])\n",
    "array4 = np.array([[2,2,3],[4,3,2]])\n",
    "print(array4 @ array3)\n",
    "array3 = np.array([1,2,3])\n",
    "array4 = np.array([4,5,6]).T\n",
    "array3 @ array4"
   ]
  },
  {
   "cell_type": "code",
   "execution_count": 183,
   "metadata": {},
   "outputs": [
    {
     "data": {
      "text/plain": [
       "'/Users/davidzhou/Desktop/Columbia Course/4771 ML/HW/repo2/others'"
      ]
     },
     "execution_count": 183,
     "metadata": {},
     "output_type": "execute_result"
    }
   ],
   "source": [
    "%pwd"
   ]
  },
  {
   "cell_type": "markdown",
   "metadata": {
    "collapsed": true
   },
   "source": []
  },
  {
   "cell_type": "code",
   "execution_count": 44,
   "metadata": {
    "collapsed": true
   },
   "outputs": [],
   "source": [
    "# Scipy Operations"
   ]
  },
  {
   "cell_type": "code",
   "execution_count": 249,
   "metadata": {
    "collapsed": true
   },
   "outputs": [],
   "source": [
    "# Image\n",
    "from scipy.misc import imread, imsave, imresize"
   ]
  },
  {
   "cell_type": "code",
   "execution_count": 16,
   "metadata": {
    "collapsed": true
   },
   "outputs": [],
   "source": [
    "img = imread('1.png')"
   ]
  },
  {
   "cell_type": "code",
   "execution_count": 18,
   "metadata": {},
   "outputs": [
    {
     "name": "stdout",
     "output_type": "stream",
     "text": [
      "uint8 (884, 720, 4)\n"
     ]
    }
   ],
   "source": [
    "print(img.dtype, img.shape)"
   ]
  },
  {
   "cell_type": "code",
   "execution_count": 250,
   "metadata": {
    "collapsed": true
   },
   "outputs": [],
   "source": [
    "img_tinted = img * [1, 0.95, 0.5, 1]"
   ]
  },
  {
   "cell_type": "code",
   "execution_count": 251,
   "metadata": {
    "collapsed": true
   },
   "outputs": [],
   "source": [
    "img_tinted = imresize(img_tinted, (300,300))"
   ]
  },
  {
   "cell_type": "code",
   "execution_count": 252,
   "metadata": {
    "collapsed": true
   },
   "outputs": [],
   "source": [
    "imsave('1_tinted.jpg', img_tinted)"
   ]
  },
  {
   "cell_type": "code",
   "execution_count": null,
   "metadata": {
    "collapsed": true
   },
   "outputs": [],
   "source": []
  },
  {
   "cell_type": "code",
   "execution_count": 45,
   "metadata": {
    "collapsed": true
   },
   "outputs": [],
   "source": [
    "from scipy.spatial.distance import pdist, squareform"
   ]
  },
  {
   "cell_type": "code",
   "execution_count": 257,
   "metadata": {},
   "outputs": [
    {
     "name": "stdout",
     "output_type": "stream",
     "text": [
      "[[0 1]\n",
      " [1 0]\n",
      " [2 0]\n",
      " [3 3]]\n"
     ]
    }
   ],
   "source": [
    "x = np.array([[0,1],[1,0],[2,0],[3,3]])\n",
    "print(x)"
   ]
  },
  {
   "cell_type": "code",
   "execution_count": 258,
   "metadata": {},
   "outputs": [
    {
     "name": "stdout",
     "output_type": "stream",
     "text": [
      "[[ 0.          1.41421356  2.23606798  3.60555128]\n",
      " [ 1.41421356  0.          1.          3.60555128]\n",
      " [ 2.23606798  1.          0.          3.16227766]\n",
      " [ 3.60555128  3.60555128  3.16227766  0.        ]]\n"
     ]
    }
   ],
   "source": [
    "d = squareform(pdist(x, 'euclidean'))\n",
    "print(d)"
   ]
  },
  {
   "cell_type": "code",
   "execution_count": null,
   "metadata": {
    "collapsed": true
   },
   "outputs": [],
   "source": []
  },
  {
   "cell_type": "code",
   "execution_count": 51,
   "metadata": {
    "collapsed": true
   },
   "outputs": [],
   "source": [
    "import matplotlib.pyplot as plt"
   ]
  },
  {
   "cell_type": "code",
   "execution_count": 79,
   "metadata": {},
   "outputs": [
    {
     "data": {
      "image/png": "[encoded data removed]",
      "text/plain": [
       "<matplotlib.figure.Figure at 0x11fbadda0>"
      ]
     },
     "metadata": {},
     "output_type": "display_data"
    }
   ],
   "source": [
    "y1 = np.sin(x) # sin(x) is a function\n",
    "y2 = np.cos(x)\n",
    "x = np.arange(0, 3 * np.pi, 0.1) # Return evenly spaced values within a given interval.\n",
    "\n",
    "plt.xlabel('x is a label')\n",
    "plt.ylabel('y is a label')\n",
    "plt.title(\"This is the title\")\n",
    "\n",
    "plt.plot(x,y1)\n",
    "plt.plot(x,y2)\n",
    "plt.legend(['Sine', 'Cosine'])\n",
    "\n",
    "\n",
    "plt.show()"
   ]
  },
  {
   "cell_type": "code",
   "execution_count": 81,
   "metadata": {},
   "outputs": [
    {
     "data": {
      "image/png": "[encoded data removed]",
      "text/plain": [
       "<matplotlib.figure.Figure at 0x11faeccf8>"
      ]
     },
     "metadata": {},
     "output_type": "display_data"
    }
   ],
   "source": [
    "plt.imshow(img)\n",
    "plt.show()"
   ]
  },
  {
   "cell_type": "code",
   "execution_count": null,
   "metadata": {
    "collapsed": true
   },
   "outputs": [],
   "source": []
  },
  {
   "cell_type": "code",
   "execution_count": null,
   "metadata": {
    "collapsed": true
   },
   "outputs": [],
   "source": [
    "# Some Magic Commands"
   ]
  },
  {
   "cell_type": "code",
   "execution_count": 262,
   "metadata": {
    "collapsed": true
   },
   "outputs": [],
   "source": [
    "# With memoization: O(n) running time\n",
    "def fib1(n, memo):\n",
    "    if memo[n] != 0: return memo[n]\n",
    "    if n == 1 or n == 0: return 1\n",
    "    else: \n",
    "        memo[n] = fib1(n - 1, memo) + fib1(n - 2, memo)\n",
    "        return memo[n]"
   ]
  },
  {
   "cell_type": "code",
   "execution_count": 265,
   "metadata": {},
   "outputs": [
    {
     "name": "stdout",
     "output_type": "stream",
     "text": [
      "20365011074\n",
      "CPU times: user 284 µs, sys: 229 µs, total: 513 µs\n",
      "Wall time: 352 µs\n"
     ]
    }
   ],
   "source": [
    "memo = [0] *100\n",
    "%time print(fib1(50, memo))"
   ]
  },
  {
   "cell_type": "code",
   "execution_count": 145,
   "metadata": {
    "collapsed": true
   },
   "outputs": [],
   "source": [
    "# 1, 1, 2, 3, 5, 8, 13\n",
    "def fib2(n):\n",
    "    nums = []\n",
    "    nums.append(1)\n",
    "    nums.append(1)\n",
    "    while len(nums) < n + 1:\n",
    "        nums.append(nums[-1] + nums[-2])\n",
    "    print(nums[-1])"
   ]
  },
  {
   "cell_type": "code",
   "execution_count": 266,
   "metadata": {},
   "outputs": [
    {
     "name": "stdout",
     "output_type": "stream",
     "text": [
      "20365011074\n",
      "CPU times: user 520 µs, sys: 499 µs, total: 1.02 ms\n",
      "Wall time: 671 µs\n"
     ]
    }
   ],
   "source": [
    "# Calculate running time\n",
    "%time fib2(50)"
   ]
  },
  {
   "cell_type": "code",
   "execution_count": 268,
   "metadata": {},
   "outputs": [
    {
     "name": "stdout",
     "output_type": "stream",
     "text": [
      " "
     ]
    }
   ],
   "source": [
    "# Time Analysis\n",
    "%prun fib1(35, memo)"
   ]
  },
  {
   "cell_type": "code",
   "execution_count": 153,
   "metadata": {},
   "outputs": [
    {
     "name": "stdout",
     "output_type": "stream",
     "text": [
      "14930352\n",
      " "
     ]
    }
   ],
   "source": [
    "%prun fib2(35)"
   ]
  },
  {
   "cell_type": "code",
   "execution_count": null,
   "metadata": {
    "collapsed": true
   },
   "outputs": [],
   "source": []
  },
  {
   "cell_type": "code",
   "execution_count": 170,
   "metadata": {
    "collapsed": true
   },
   "outputs": [],
   "source": [
    "# Pandas Tutorial: https://www.dataquest.io/blog/pandas-python-tutorial/\n",
    "import pandas as pd"
   ]
  },
  {
   "cell_type": "code",
   "execution_count": 171,
   "metadata": {
    "collapsed": true
   },
   "outputs": [],
   "source": [
    "reviews = pd.read_csv('ign.csv')"
   ]
  },
  {
   "cell_type": "code",
   "execution_count": 181,
   "metadata": {},
   "outputs": [
    {
     "data": {
      "text/html": [
       "<div>\n",
       "<style>\n",
       "    .dataframe thead tr:only-child th {\n",
       "        text-align: right;\n",
       "    }\n",
       "\n",
       "    .dataframe thead th {\n",
       "        text-align: left;\n",
       "    }\n",
       "\n",
       "    .dataframe tbody tr th {\n",
       "        vertical-align: top;\n",
       "    }\n",
       "</style>\n",
       "<table border=\"1\" class=\"dataframe\">\n",
       "  <thead>\n",
       "    <tr style=\"text-align: right;\">\n",
       "      <th></th>\n",
       "      <th>Unnamed: 0</th>\n",
       "      <th>score_phrase</th>\n",
       "      <th>title</th>\n",
       "      <th>url</th>\n",
       "      <th>platform</th>\n",
       "      <th>score</th>\n",
       "      <th>genre</th>\n",
       "      <th>editors_choice</th>\n",
       "      <th>release_year</th>\n",
       "      <th>release_month</th>\n",
       "      <th>release_day</th>\n",
       "    </tr>\n",
       "  </thead>\n",
       "  <tbody>\n",
       "    <tr>\n",
       "      <th>18620</th>\n",
       "      <td>18620</td>\n",
       "      <td>Good</td>\n",
       "      <td>Tokyo Mirage Sessions #FE</td>\n",
       "      <td>/games/fire-emblem-x-shin-megami-tensei/wii-u-...</td>\n",
       "      <td>Wii U</td>\n",
       "      <td>7.6</td>\n",
       "      <td>RPG</td>\n",
       "      <td>N</td>\n",
       "      <td>2016</td>\n",
       "      <td>6</td>\n",
       "      <td>29</td>\n",
       "    </tr>\n",
       "    <tr>\n",
       "      <th>18621</th>\n",
       "      <td>18621</td>\n",
       "      <td>Amazing</td>\n",
       "      <td>LEGO Star Wars: The Force Awakens</td>\n",
       "      <td>/games/lego-star-wars-the-force-awakens/ps4-20...</td>\n",
       "      <td>PlayStation 4</td>\n",
       "      <td>9.0</td>\n",
       "      <td>Action, Adventure</td>\n",
       "      <td>Y</td>\n",
       "      <td>2016</td>\n",
       "      <td>6</td>\n",
       "      <td>29</td>\n",
       "    </tr>\n",
       "    <tr>\n",
       "      <th>18622</th>\n",
       "      <td>18622</td>\n",
       "      <td>Mediocre</td>\n",
       "      <td>Star Ocean: Integrity and Faithlessness</td>\n",
       "      <td>/games/star-ocean-5/ps4-20035681</td>\n",
       "      <td>PlayStation 4</td>\n",
       "      <td>5.8</td>\n",
       "      <td>RPG</td>\n",
       "      <td>N</td>\n",
       "      <td>2016</td>\n",
       "      <td>6</td>\n",
       "      <td>28</td>\n",
       "    </tr>\n",
       "    <tr>\n",
       "      <th>18623</th>\n",
       "      <td>18623</td>\n",
       "      <td>Masterpiece</td>\n",
       "      <td>Inside</td>\n",
       "      <td>/games/inside-playdead/xbox-one-121435</td>\n",
       "      <td>Xbox One</td>\n",
       "      <td>10.0</td>\n",
       "      <td>Adventure</td>\n",
       "      <td>Y</td>\n",
       "      <td>2016</td>\n",
       "      <td>6</td>\n",
       "      <td>28</td>\n",
       "    </tr>\n",
       "    <tr>\n",
       "      <th>18624</th>\n",
       "      <td>18624</td>\n",
       "      <td>Masterpiece</td>\n",
       "      <td>Inside</td>\n",
       "      <td>/games/inside-playdead/pc-20055740</td>\n",
       "      <td>PC</td>\n",
       "      <td>10.0</td>\n",
       "      <td>Adventure</td>\n",
       "      <td>Y</td>\n",
       "      <td>2016</td>\n",
       "      <td>6</td>\n",
       "      <td>28</td>\n",
       "    </tr>\n",
       "  </tbody>\n",
       "</table>\n",
       "</div>"
      ],
      "text/plain": [
       "       Unnamed: 0 score_phrase                                    title  \\\n",
       "18620       18620         Good                Tokyo Mirage Sessions #FE   \n",
       "18621       18621      Amazing        LEGO Star Wars: The Force Awakens   \n",
       "18622       18622     Mediocre  Star Ocean: Integrity and Faithlessness   \n",
       "18623       18623  Masterpiece                                   Inside   \n",
       "18624       18624  Masterpiece                                   Inside   \n",
       "\n",
       "                                                     url       platform  \\\n",
       "18620  /games/fire-emblem-x-shin-megami-tensei/wii-u-...          Wii U   \n",
       "18621  /games/lego-star-wars-the-force-awakens/ps4-20...  PlayStation 4   \n",
       "18622                   /games/star-ocean-5/ps4-20035681  PlayStation 4   \n",
       "18623             /games/inside-playdead/xbox-one-121435       Xbox One   \n",
       "18624                 /games/inside-playdead/pc-20055740             PC   \n",
       "\n",
       "       score              genre editors_choice  release_year  release_month  \\\n",
       "18620    7.6                RPG              N          2016              6   \n",
       "18621    9.0  Action, Adventure              Y          2016              6   \n",
       "18622    5.8                RPG              N          2016              6   \n",
       "18623   10.0          Adventure              Y          2016              6   \n",
       "18624   10.0          Adventure              Y          2016              6   \n",
       "\n",
       "       release_day  \n",
       "18620           29  \n",
       "18621           29  \n",
       "18622           28  \n",
       "18623           28  \n",
       "18624           28  "
      ]
     },
     "execution_count": 181,
     "metadata": {},
     "output_type": "execute_result"
    }
   ],
   "source": [
    "reviews.head()\n",
    "reviews.tail()"
   ]
  },
  {
   "cell_type": "code",
   "execution_count": 190,
   "metadata": {},
   "outputs": [
    {
     "data": {
      "text/html": [
       "<div>\n",
       "<style>\n",
       "    .dataframe thead tr:only-child th {\n",
       "        text-align: right;\n",
       "    }\n",
       "\n",
       "    .dataframe thead th {\n",
       "        text-align: left;\n",
       "    }\n",
       "\n",
       "    .dataframe tbody tr th {\n",
       "        vertical-align: top;\n",
       "    }\n",
       "</style>\n",
       "<table border=\"1\" class=\"dataframe\">\n",
       "  <thead>\n",
       "    <tr style=\"text-align: right;\">\n",
       "      <th></th>\n",
       "      <th>score_phrase</th>\n",
       "      <th>title</th>\n",
       "      <th>url</th>\n",
       "      <th>platform</th>\n",
       "      <th>score</th>\n",
       "      <th>genre</th>\n",
       "      <th>editors_choice</th>\n",
       "      <th>release_year</th>\n",
       "      <th>release_month</th>\n",
       "      <th>release_day</th>\n",
       "    </tr>\n",
       "  </thead>\n",
       "  <tbody>\n",
       "    <tr>\n",
       "      <th>0</th>\n",
       "      <td>Amazing</td>\n",
       "      <td>LittleBigPlanet PS Vita</td>\n",
       "      <td>/games/littlebigplanet-vita/vita-98907</td>\n",
       "      <td>PlayStation Vita</td>\n",
       "      <td>9.0</td>\n",
       "      <td>Platformer</td>\n",
       "      <td>Y</td>\n",
       "      <td>2012</td>\n",
       "      <td>9</td>\n",
       "      <td>12</td>\n",
       "    </tr>\n",
       "    <tr>\n",
       "      <th>1</th>\n",
       "      <td>Amazing</td>\n",
       "      <td>LittleBigPlanet PS Vita -- Marvel Super Hero E...</td>\n",
       "      <td>/games/littlebigplanet-ps-vita-marvel-super-he...</td>\n",
       "      <td>PlayStation Vita</td>\n",
       "      <td>9.0</td>\n",
       "      <td>Platformer</td>\n",
       "      <td>Y</td>\n",
       "      <td>2012</td>\n",
       "      <td>9</td>\n",
       "      <td>12</td>\n",
       "    </tr>\n",
       "    <tr>\n",
       "      <th>2</th>\n",
       "      <td>Great</td>\n",
       "      <td>Splice: Tree of Life</td>\n",
       "      <td>/games/splice/ipad-141070</td>\n",
       "      <td>iPad</td>\n",
       "      <td>8.5</td>\n",
       "      <td>Puzzle</td>\n",
       "      <td>N</td>\n",
       "      <td>2012</td>\n",
       "      <td>9</td>\n",
       "      <td>12</td>\n",
       "    </tr>\n",
       "    <tr>\n",
       "      <th>3</th>\n",
       "      <td>Great</td>\n",
       "      <td>NHL 13</td>\n",
       "      <td>/games/nhl-13/xbox-360-128182</td>\n",
       "      <td>Xbox 360</td>\n",
       "      <td>8.5</td>\n",
       "      <td>Sports</td>\n",
       "      <td>N</td>\n",
       "      <td>2012</td>\n",
       "      <td>9</td>\n",
       "      <td>11</td>\n",
       "    </tr>\n",
       "    <tr>\n",
       "      <th>4</th>\n",
       "      <td>Great</td>\n",
       "      <td>NHL 13</td>\n",
       "      <td>/games/nhl-13/ps3-128181</td>\n",
       "      <td>PlayStation 3</td>\n",
       "      <td>8.5</td>\n",
       "      <td>Sports</td>\n",
       "      <td>N</td>\n",
       "      <td>2012</td>\n",
       "      <td>9</td>\n",
       "      <td>11</td>\n",
       "    </tr>\n",
       "  </tbody>\n",
       "</table>\n",
       "</div>"
      ],
      "text/plain": [
       "  score_phrase                                              title  \\\n",
       "0      Amazing                            LittleBigPlanet PS Vita   \n",
       "1      Amazing  LittleBigPlanet PS Vita -- Marvel Super Hero E...   \n",
       "2        Great                               Splice: Tree of Life   \n",
       "3        Great                                             NHL 13   \n",
       "4        Great                                             NHL 13   \n",
       "\n",
       "                                                 url          platform  score  \\\n",
       "0             /games/littlebigplanet-vita/vita-98907  PlayStation Vita    9.0   \n",
       "1  /games/littlebigplanet-ps-vita-marvel-super-he...  PlayStation Vita    9.0   \n",
       "2                          /games/splice/ipad-141070              iPad    8.5   \n",
       "3                      /games/nhl-13/xbox-360-128182          Xbox 360    8.5   \n",
       "4                           /games/nhl-13/ps3-128181     PlayStation 3    8.5   \n",
       "\n",
       "        genre editors_choice  release_year  release_month  release_day  \n",
       "0  Platformer              Y          2012              9           12  \n",
       "1  Platformer              Y          2012              9           12  \n",
       "2      Puzzle              N          2012              9           12  \n",
       "3      Sports              N          2012              9           11  \n",
       "4      Sports              N          2012              9           11  "
      ]
     },
     "execution_count": 190,
     "metadata": {},
     "output_type": "execute_result"
    }
   ],
   "source": [
    "reviews = reviews.iloc[:, 1:]\n",
    "reviews.head()"
   ]
  },
  {
   "cell_type": "code",
   "execution_count": 213,
   "metadata": {},
   "outputs": [
    {
     "data": {
      "text/html": [
       "<div>\n",
       "<style>\n",
       "    .dataframe thead tr:only-child th {\n",
       "        text-align: right;\n",
       "    }\n",
       "\n",
       "    .dataframe thead th {\n",
       "        text-align: left;\n",
       "    }\n",
       "\n",
       "    .dataframe tbody tr th {\n",
       "        vertical-align: top;\n",
       "    }\n",
       "</style>\n",
       "<table border=\"1\" class=\"dataframe\">\n",
       "  <thead>\n",
       "    <tr style=\"text-align: right;\">\n",
       "      <th></th>\n",
       "      <th>score_phrase</th>\n",
       "      <th>title</th>\n",
       "      <th>url</th>\n",
       "      <th>platform</th>\n",
       "      <th>score</th>\n",
       "      <th>genre</th>\n",
       "      <th>editors_choice</th>\n",
       "      <th>release_year</th>\n",
       "      <th>release_month</th>\n",
       "      <th>release_day</th>\n",
       "    </tr>\n",
       "  </thead>\n",
       "  <tbody>\n",
       "    <tr>\n",
       "      <th>10</th>\n",
       "      <td>Good</td>\n",
       "      <td>Tekken Tag Tournament 2</td>\n",
       "      <td>/games/tekken-tag-tournament-2/ps3-124584</td>\n",
       "      <td>PlayStation 3</td>\n",
       "      <td>7.5</td>\n",
       "      <td>Fighting</td>\n",
       "      <td>N</td>\n",
       "      <td>2012</td>\n",
       "      <td>9</td>\n",
       "      <td>11</td>\n",
       "    </tr>\n",
       "    <tr>\n",
       "      <th>11</th>\n",
       "      <td>Good</td>\n",
       "      <td>Tekken Tag Tournament 2</td>\n",
       "      <td>/games/tekken-tag-tournament-2/xbox-360-124581</td>\n",
       "      <td>Xbox 360</td>\n",
       "      <td>7.5</td>\n",
       "      <td>Fighting</td>\n",
       "      <td>N</td>\n",
       "      <td>2012</td>\n",
       "      <td>9</td>\n",
       "      <td>11</td>\n",
       "    </tr>\n",
       "    <tr>\n",
       "      <th>12</th>\n",
       "      <td>Good</td>\n",
       "      <td>Wild Blood</td>\n",
       "      <td>/games/wild-blood/iphone-139363</td>\n",
       "      <td>iPhone</td>\n",
       "      <td>7.0</td>\n",
       "      <td>NaN</td>\n",
       "      <td>N</td>\n",
       "      <td>2012</td>\n",
       "      <td>9</td>\n",
       "      <td>10</td>\n",
       "    </tr>\n",
       "    <tr>\n",
       "      <th>13</th>\n",
       "      <td>Amazing</td>\n",
       "      <td>Mark of the Ninja</td>\n",
       "      <td>/games/mark-of-the-ninja-135615/xbox-360-129276</td>\n",
       "      <td>Xbox 360</td>\n",
       "      <td>9.0</td>\n",
       "      <td>Action, Adventure</td>\n",
       "      <td>Y</td>\n",
       "      <td>2012</td>\n",
       "      <td>9</td>\n",
       "      <td>7</td>\n",
       "    </tr>\n",
       "    <tr>\n",
       "      <th>14</th>\n",
       "      <td>Amazing</td>\n",
       "      <td>Mark of the Ninja</td>\n",
       "      <td>/games/mark-of-the-ninja-135615/pc-143761</td>\n",
       "      <td>PC</td>\n",
       "      <td>9.0</td>\n",
       "      <td>Action, Adventure</td>\n",
       "      <td>Y</td>\n",
       "      <td>2012</td>\n",
       "      <td>9</td>\n",
       "      <td>7</td>\n",
       "    </tr>\n",
       "  </tbody>\n",
       "</table>\n",
       "</div>"
      ],
      "text/plain": [
       "   score_phrase                    title  \\\n",
       "10         Good  Tekken Tag Tournament 2   \n",
       "11         Good  Tekken Tag Tournament 2   \n",
       "12         Good               Wild Blood   \n",
       "13      Amazing        Mark of the Ninja   \n",
       "14      Amazing        Mark of the Ninja   \n",
       "\n",
       "                                                url       platform  score  \\\n",
       "10        /games/tekken-tag-tournament-2/ps3-124584  PlayStation 3    7.5   \n",
       "11   /games/tekken-tag-tournament-2/xbox-360-124581       Xbox 360    7.5   \n",
       "12                  /games/wild-blood/iphone-139363         iPhone    7.0   \n",
       "13  /games/mark-of-the-ninja-135615/xbox-360-129276       Xbox 360    9.0   \n",
       "14        /games/mark-of-the-ninja-135615/pc-143761             PC    9.0   \n",
       "\n",
       "                genre editors_choice  release_year  release_month  release_day  \n",
       "10           Fighting              N          2012              9           11  \n",
       "11           Fighting              N          2012              9           11  \n",
       "12                NaN              N          2012              9           10  \n",
       "13  Action, Adventure              Y          2012              9            7  \n",
       "14  Action, Adventure              Y          2012              9            7  "
      ]
     },
     "execution_count": 213,
     "metadata": {},
     "output_type": "execute_result"
    }
   ],
   "source": [
    "some_reviews = reviews.iloc[10:20,]\n",
    "some_reviews.head()"
   ]
  },
  {
   "cell_type": "code",
   "execution_count": 214,
   "metadata": {},
   "outputs": [
    {
     "data": {
      "text/html": [
       "<div>\n",
       "<style>\n",
       "    .dataframe thead tr:only-child th {\n",
       "        text-align: right;\n",
       "    }\n",
       "\n",
       "    .dataframe thead th {\n",
       "        text-align: left;\n",
       "    }\n",
       "\n",
       "    .dataframe tbody tr th {\n",
       "        vertical-align: top;\n",
       "    }\n",
       "</style>\n",
       "<table border=\"1\" class=\"dataframe\">\n",
       "  <thead>\n",
       "    <tr style=\"text-align: right;\">\n",
       "      <th></th>\n",
       "      <th>url</th>\n",
       "      <th>title</th>\n",
       "    </tr>\n",
       "  </thead>\n",
       "  <tbody>\n",
       "    <tr>\n",
       "      <th>11</th>\n",
       "      <td>/games/tekken-tag-tournament-2/xbox-360-124581</td>\n",
       "      <td>Tekken Tag Tournament 2</td>\n",
       "    </tr>\n",
       "    <tr>\n",
       "      <th>12</th>\n",
       "      <td>/games/wild-blood/iphone-139363</td>\n",
       "      <td>Wild Blood</td>\n",
       "    </tr>\n",
       "    <tr>\n",
       "      <th>13</th>\n",
       "      <td>/games/mark-of-the-ninja-135615/xbox-360-129276</td>\n",
       "      <td>Mark of the Ninja</td>\n",
       "    </tr>\n",
       "  </tbody>\n",
       "</table>\n",
       "</div>"
      ],
      "text/plain": [
       "                                                url                    title\n",
       "11   /games/tekken-tag-tournament-2/xbox-360-124581  Tekken Tag Tournament 2\n",
       "12                  /games/wild-blood/iphone-139363               Wild Blood\n",
       "13  /games/mark-of-the-ninja-135615/xbox-360-129276        Mark of the Ninja"
      ]
     },
     "execution_count": 214,
     "metadata": {},
     "output_type": "execute_result"
    }
   ],
   "source": [
    "some_reviews.loc[11:13, ['url', 'title']]"
   ]
  },
  {
   "cell_type": "code",
   "execution_count": 219,
   "metadata": {},
   "outputs": [
    {
     "name": "stdout",
     "output_type": "stream",
     "text": [
      "<class 'pandas.core.frame.DataFrame'>\n",
      "<class 'pandas.core.series.Series'>\n"
     ]
    }
   ],
   "source": [
    "r1 = some_reviews[['url', 'title']]\n",
    "print(type(r1) )\n",
    "\n",
    "r2 = some_reviews['url']\n",
    "print(type(r2)) # r2 only contains a single column; It's a series"
   ]
  },
  {
   "cell_type": "code",
   "execution_count": 220,
   "metadata": {},
   "outputs": [
    {
     "data": {
      "text/plain": [
       "score               6.950459\n",
       "release_year     2006.515329\n",
       "release_month       7.138470\n",
       "release_day        15.603866\n",
       "dtype: float64"
      ]
     },
     "execution_count": 220,
     "metadata": {},
     "output_type": "execute_result"
    }
   ],
   "source": [
    "reviews.mean()"
   ]
  },
  {
   "cell_type": "code",
   "execution_count": 222,
   "metadata": {},
   "outputs": [
    {
     "data": {
      "text/plain": [
       "score               7.3\n",
       "release_year     2007.0\n",
       "release_month       8.0\n",
       "release_day        16.0\n",
       "dtype: float64"
      ]
     },
     "execution_count": 222,
     "metadata": {},
     "output_type": "execute_result"
    }
   ],
   "source": [
    "reviews.median()"
   ]
  },
  {
   "cell_type": "code",
   "execution_count": 223,
   "metadata": {},
   "outputs": [
    {
     "data": {
      "text/html": [
       "<div>\n",
       "<style>\n",
       "    .dataframe thead tr:only-child th {\n",
       "        text-align: right;\n",
       "    }\n",
       "\n",
       "    .dataframe thead th {\n",
       "        text-align: left;\n",
       "    }\n",
       "\n",
       "    .dataframe tbody tr th {\n",
       "        vertical-align: top;\n",
       "    }\n",
       "</style>\n",
       "<table border=\"1\" class=\"dataframe\">\n",
       "  <thead>\n",
       "    <tr style=\"text-align: right;\">\n",
       "      <th></th>\n",
       "      <th>score</th>\n",
       "      <th>release_year</th>\n",
       "      <th>release_month</th>\n",
       "      <th>release_day</th>\n",
       "    </tr>\n",
       "  </thead>\n",
       "  <tbody>\n",
       "    <tr>\n",
       "      <th>score</th>\n",
       "      <td>1.000000</td>\n",
       "      <td>0.062716</td>\n",
       "      <td>0.007632</td>\n",
       "      <td>0.020079</td>\n",
       "    </tr>\n",
       "    <tr>\n",
       "      <th>release_year</th>\n",
       "      <td>0.062716</td>\n",
       "      <td>1.000000</td>\n",
       "      <td>-0.115515</td>\n",
       "      <td>0.016867</td>\n",
       "    </tr>\n",
       "    <tr>\n",
       "      <th>release_month</th>\n",
       "      <td>0.007632</td>\n",
       "      <td>-0.115515</td>\n",
       "      <td>1.000000</td>\n",
       "      <td>-0.067964</td>\n",
       "    </tr>\n",
       "    <tr>\n",
       "      <th>release_day</th>\n",
       "      <td>0.020079</td>\n",
       "      <td>0.016867</td>\n",
       "      <td>-0.067964</td>\n",
       "      <td>1.000000</td>\n",
       "    </tr>\n",
       "  </tbody>\n",
       "</table>\n",
       "</div>"
      ],
      "text/plain": [
       "                  score  release_year  release_month  release_day\n",
       "score          1.000000      0.062716       0.007632     0.020079\n",
       "release_year   0.062716      1.000000      -0.115515     0.016867\n",
       "release_month  0.007632     -0.115515       1.000000    -0.067964\n",
       "release_day    0.020079      0.016867      -0.067964     1.000000"
      ]
     },
     "execution_count": 223,
     "metadata": {},
     "output_type": "execute_result"
    }
   ],
   "source": [
    "reviews.corr()"
   ]
  },
  {
   "cell_type": "code",
   "execution_count": 225,
   "metadata": {},
   "outputs": [
    {
     "data": {
      "text/html": [
       "<div>\n",
       "<style>\n",
       "    .dataframe thead tr:only-child th {\n",
       "        text-align: right;\n",
       "    }\n",
       "\n",
       "    .dataframe thead th {\n",
       "        text-align: left;\n",
       "    }\n",
       "\n",
       "    .dataframe tbody tr th {\n",
       "        vertical-align: top;\n",
       "    }\n",
       "</style>\n",
       "<table border=\"1\" class=\"dataframe\">\n",
       "  <thead>\n",
       "    <tr style=\"text-align: right;\">\n",
       "      <th></th>\n",
       "      <th>score</th>\n",
       "      <th>release_year</th>\n",
       "      <th>release_month</th>\n",
       "      <th>release_day</th>\n",
       "    </tr>\n",
       "  </thead>\n",
       "  <tbody>\n",
       "    <tr>\n",
       "      <th>count</th>\n",
       "      <td>18625.000000</td>\n",
       "      <td>18625.000000</td>\n",
       "      <td>18625.00000</td>\n",
       "      <td>18625.000000</td>\n",
       "    </tr>\n",
       "    <tr>\n",
       "      <th>mean</th>\n",
       "      <td>6.950459</td>\n",
       "      <td>2006.515329</td>\n",
       "      <td>7.13847</td>\n",
       "      <td>15.603866</td>\n",
       "    </tr>\n",
       "    <tr>\n",
       "      <th>std</th>\n",
       "      <td>1.711736</td>\n",
       "      <td>4.587529</td>\n",
       "      <td>3.47671</td>\n",
       "      <td>8.690128</td>\n",
       "    </tr>\n",
       "    <tr>\n",
       "      <th>min</th>\n",
       "      <td>0.500000</td>\n",
       "      <td>1970.000000</td>\n",
       "      <td>1.00000</td>\n",
       "      <td>1.000000</td>\n",
       "    </tr>\n",
       "    <tr>\n",
       "      <th>25%</th>\n",
       "      <td>6.000000</td>\n",
       "      <td>2003.000000</td>\n",
       "      <td>4.00000</td>\n",
       "      <td>8.000000</td>\n",
       "    </tr>\n",
       "    <tr>\n",
       "      <th>50%</th>\n",
       "      <td>7.300000</td>\n",
       "      <td>2007.000000</td>\n",
       "      <td>8.00000</td>\n",
       "      <td>16.000000</td>\n",
       "    </tr>\n",
       "    <tr>\n",
       "      <th>75%</th>\n",
       "      <td>8.200000</td>\n",
       "      <td>2010.000000</td>\n",
       "      <td>10.00000</td>\n",
       "      <td>23.000000</td>\n",
       "    </tr>\n",
       "    <tr>\n",
       "      <th>max</th>\n",
       "      <td>10.000000</td>\n",
       "      <td>2016.000000</td>\n",
       "      <td>12.00000</td>\n",
       "      <td>31.000000</td>\n",
       "    </tr>\n",
       "  </tbody>\n",
       "</table>\n",
       "</div>"
      ],
      "text/plain": [
       "              score  release_year  release_month   release_day\n",
       "count  18625.000000  18625.000000    18625.00000  18625.000000\n",
       "mean       6.950459   2006.515329        7.13847     15.603866\n",
       "std        1.711736      4.587529        3.47671      8.690128\n",
       "min        0.500000   1970.000000        1.00000      1.000000\n",
       "25%        6.000000   2003.000000        4.00000      8.000000\n",
       "50%        7.300000   2007.000000        8.00000     16.000000\n",
       "75%        8.200000   2010.000000       10.00000     23.000000\n",
       "max       10.000000   2016.000000       12.00000     31.000000"
      ]
     },
     "execution_count": 225,
     "metadata": {},
     "output_type": "execute_result"
    }
   ],
   "source": [
    "reviews.describe()"
   ]
  },
  {
   "cell_type": "code",
   "execution_count": 233,
   "metadata": {},
   "outputs": [
    {
     "data": {
      "text/plain": [
       "2008    1915\n",
       "2009    1687\n",
       "2007    1610\n",
       "2010    1363\n",
       "2006    1208\n",
       "2005    1088\n",
       "2011    1073\n",
       "2000    1045\n",
       "2004     997\n",
       "2003     969\n",
       "2002     936\n",
       "1999     775\n",
       "2012     753\n",
       "2013     696\n",
       "2001     688\n",
       "2014     537\n",
       "2015     365\n",
       "1998     339\n",
       "2016     226\n",
       "1997     205\n",
       "1996     149\n",
       "1970       1\n",
       "Name: release_year, dtype: int64"
      ]
     },
     "execution_count": 233,
     "metadata": {},
     "output_type": "execute_result"
    }
   ],
   "source": [
    "t2 = reviews['release_year'].value_counts()\n",
    "t2"
   ]
  },
  {
   "cell_type": "code",
   "execution_count": 231,
   "metadata": {},
   "outputs": [
    {
     "data": {
      "text/plain": [
       "count      22.000000\n",
       "mean      846.590909\n",
       "std       519.521177\n",
       "min         1.000000\n",
       "25%       408.000000\n",
       "50%       855.500000\n",
       "75%      1084.250000\n",
       "max      1915.000000\n",
       "Name: release_year, dtype: float64"
      ]
     },
     "execution_count": 231,
     "metadata": {},
     "output_type": "execute_result"
    }
   ],
   "source": [
    "t2.describe()"
   ]
  },
  {
   "cell_type": "code",
   "execution_count": 234,
   "metadata": {},
   "outputs": [
    {
     "data": {
      "text/html": [
       "<div>\n",
       "<style>\n",
       "    .dataframe thead tr:only-child th {\n",
       "        text-align: right;\n",
       "    }\n",
       "\n",
       "    .dataframe thead th {\n",
       "        text-align: left;\n",
       "    }\n",
       "\n",
       "    .dataframe tbody tr th {\n",
       "        vertical-align: top;\n",
       "    }\n",
       "</style>\n",
       "<table border=\"1\" class=\"dataframe\">\n",
       "  <thead>\n",
       "    <tr style=\"text-align: right;\">\n",
       "      <th></th>\n",
       "      <th>score_phrase</th>\n",
       "      <th>title</th>\n",
       "      <th>url</th>\n",
       "      <th>platform</th>\n",
       "      <th>score</th>\n",
       "      <th>genre</th>\n",
       "      <th>editors_choice</th>\n",
       "      <th>release_year</th>\n",
       "      <th>release_month</th>\n",
       "      <th>release_day</th>\n",
       "    </tr>\n",
       "  </thead>\n",
       "  <tbody>\n",
       "    <tr>\n",
       "      <th>0</th>\n",
       "      <td>Amazing</td>\n",
       "      <td>LittleBigPlanet PS Vita</td>\n",
       "      <td>/games/littlebigplanet-vita/vita-98907</td>\n",
       "      <td>PlayStation Vita</td>\n",
       "      <td>9.0</td>\n",
       "      <td>Platformer</td>\n",
       "      <td>Y</td>\n",
       "      <td>2012</td>\n",
       "      <td>9</td>\n",
       "      <td>12</td>\n",
       "    </tr>\n",
       "    <tr>\n",
       "      <th>1</th>\n",
       "      <td>Amazing</td>\n",
       "      <td>LittleBigPlanet PS Vita -- Marvel Super Hero E...</td>\n",
       "      <td>/games/littlebigplanet-ps-vita-marvel-super-he...</td>\n",
       "      <td>PlayStation Vita</td>\n",
       "      <td>9.0</td>\n",
       "      <td>Platformer</td>\n",
       "      <td>Y</td>\n",
       "      <td>2012</td>\n",
       "      <td>9</td>\n",
       "      <td>12</td>\n",
       "    </tr>\n",
       "    <tr>\n",
       "      <th>2</th>\n",
       "      <td>Great</td>\n",
       "      <td>Splice: Tree of Life</td>\n",
       "      <td>/games/splice/ipad-141070</td>\n",
       "      <td>iPad</td>\n",
       "      <td>8.5</td>\n",
       "      <td>Puzzle</td>\n",
       "      <td>N</td>\n",
       "      <td>2012</td>\n",
       "      <td>9</td>\n",
       "      <td>12</td>\n",
       "    </tr>\n",
       "    <tr>\n",
       "      <th>3</th>\n",
       "      <td>Great</td>\n",
       "      <td>NHL 13</td>\n",
       "      <td>/games/nhl-13/xbox-360-128182</td>\n",
       "      <td>Xbox 360</td>\n",
       "      <td>8.5</td>\n",
       "      <td>Sports</td>\n",
       "      <td>N</td>\n",
       "      <td>2012</td>\n",
       "      <td>9</td>\n",
       "      <td>11</td>\n",
       "    </tr>\n",
       "    <tr>\n",
       "      <th>4</th>\n",
       "      <td>Great</td>\n",
       "      <td>NHL 13</td>\n",
       "      <td>/games/nhl-13/ps3-128181</td>\n",
       "      <td>PlayStation 3</td>\n",
       "      <td>8.5</td>\n",
       "      <td>Sports</td>\n",
       "      <td>N</td>\n",
       "      <td>2012</td>\n",
       "      <td>9</td>\n",
       "      <td>11</td>\n",
       "    </tr>\n",
       "  </tbody>\n",
       "</table>\n",
       "</div>"
      ],
      "text/plain": [
       "  score_phrase                                              title  \\\n",
       "0      Amazing                            LittleBigPlanet PS Vita   \n",
       "1      Amazing  LittleBigPlanet PS Vita -- Marvel Super Hero E...   \n",
       "2        Great                               Splice: Tree of Life   \n",
       "3        Great                                             NHL 13   \n",
       "4        Great                                             NHL 13   \n",
       "\n",
       "                                                 url          platform  score  \\\n",
       "0             /games/littlebigplanet-vita/vita-98907  PlayStation Vita    9.0   \n",
       "1  /games/littlebigplanet-ps-vita-marvel-super-he...  PlayStation Vita    9.0   \n",
       "2                          /games/splice/ipad-141070              iPad    8.5   \n",
       "3                      /games/nhl-13/xbox-360-128182          Xbox 360    8.5   \n",
       "4                           /games/nhl-13/ps3-128181     PlayStation 3    8.5   \n",
       "\n",
       "        genre editors_choice  release_year  release_month  release_day  \n",
       "0  Platformer              Y          2012              9           12  \n",
       "1  Platformer              Y          2012              9           12  \n",
       "2      Puzzle              N          2012              9           12  \n",
       "3      Sports              N          2012              9           11  \n",
       "4      Sports              N          2012              9           11  "
      ]
     },
     "execution_count": 234,
     "metadata": {},
     "output_type": "execute_result"
    }
   ],
   "source": [
    "reviews.head()"
   ]
  },
  {
   "cell_type": "code",
   "execution_count": 238,
   "metadata": {},
   "outputs": [
    {
     "data": {
      "text/html": [
       "<div>\n",
       "<style>\n",
       "    .dataframe thead tr:only-child th {\n",
       "        text-align: right;\n",
       "    }\n",
       "\n",
       "    .dataframe thead th {\n",
       "        text-align: left;\n",
       "    }\n",
       "\n",
       "    .dataframe tbody tr th {\n",
       "        vertical-align: top;\n",
       "    }\n",
       "</style>\n",
       "<table border=\"1\" class=\"dataframe\">\n",
       "  <thead>\n",
       "    <tr style=\"text-align: right;\">\n",
       "      <th></th>\n",
       "      <th>score_phrase</th>\n",
       "      <th>title</th>\n",
       "      <th>url</th>\n",
       "      <th>platform</th>\n",
       "      <th>score</th>\n",
       "      <th>genre</th>\n",
       "      <th>editors_choice</th>\n",
       "      <th>release_year</th>\n",
       "      <th>release_month</th>\n",
       "      <th>release_day</th>\n",
       "    </tr>\n",
       "  </thead>\n",
       "  <tbody>\n",
       "    <tr>\n",
       "      <th>516</th>\n",
       "      <td>Great</td>\n",
       "      <td>The Walking Dead: The Game -- Episode 1: A New...</td>\n",
       "      <td>/games/the-walking-dead-season-1-episode-1/xbo...</td>\n",
       "      <td>Xbox 360</td>\n",
       "      <td>8.5</td>\n",
       "      <td>Adventure</td>\n",
       "      <td>N</td>\n",
       "      <td>1970</td>\n",
       "      <td>1</td>\n",
       "      <td>1</td>\n",
       "    </tr>\n",
       "    <tr>\n",
       "      <th>519</th>\n",
       "      <td>Okay</td>\n",
       "      <td>Gex</td>\n",
       "      <td>/games/gex/ps-149</td>\n",
       "      <td>PlayStation</td>\n",
       "      <td>6.0</td>\n",
       "      <td>Platformer</td>\n",
       "      <td>N</td>\n",
       "      <td>1996</td>\n",
       "      <td>11</td>\n",
       "      <td>25</td>\n",
       "    </tr>\n",
       "    <tr>\n",
       "      <th>460</th>\n",
       "      <td>Mediocre</td>\n",
       "      <td>NBA In the Zone</td>\n",
       "      <td>/games/nba-in-the-zone-36223/ps-164</td>\n",
       "      <td>PlayStation</td>\n",
       "      <td>5.0</td>\n",
       "      <td>Sports</td>\n",
       "      <td>N</td>\n",
       "      <td>1996</td>\n",
       "      <td>11</td>\n",
       "      <td>25</td>\n",
       "    </tr>\n",
       "    <tr>\n",
       "      <th>461</th>\n",
       "      <td>Good</td>\n",
       "      <td>Magic Carpet</td>\n",
       "      <td>/games/magic-carpet/ps-159</td>\n",
       "      <td>PlayStation</td>\n",
       "      <td>7.5</td>\n",
       "      <td>Action</td>\n",
       "      <td>N</td>\n",
       "      <td>1996</td>\n",
       "      <td>11</td>\n",
       "      <td>25</td>\n",
       "    </tr>\n",
       "    <tr>\n",
       "      <th>462</th>\n",
       "      <td>Painful</td>\n",
       "      <td>Power Serve 3D Tennis</td>\n",
       "      <td>/games/power-serve-3d-tennis/ps-167</td>\n",
       "      <td>PlayStation</td>\n",
       "      <td>2.0</td>\n",
       "      <td>Sports</td>\n",
       "      <td>N</td>\n",
       "      <td>1996</td>\n",
       "      <td>11</td>\n",
       "      <td>25</td>\n",
       "    </tr>\n",
       "  </tbody>\n",
       "</table>\n",
       "</div>"
      ],
      "text/plain": [
       "    score_phrase                                              title  \\\n",
       "516        Great  The Walking Dead: The Game -- Episode 1: A New...   \n",
       "519         Okay                                                Gex   \n",
       "460     Mediocre                                    NBA In the Zone   \n",
       "461         Good                                       Magic Carpet   \n",
       "462      Painful                              Power Serve 3D Tennis   \n",
       "\n",
       "                                                   url     platform  score  \\\n",
       "516  /games/the-walking-dead-season-1-episode-1/xbo...     Xbox 360    8.5   \n",
       "519                                  /games/gex/ps-149  PlayStation    6.0   \n",
       "460                /games/nba-in-the-zone-36223/ps-164  PlayStation    5.0   \n",
       "461                         /games/magic-carpet/ps-159  PlayStation    7.5   \n",
       "462                /games/power-serve-3d-tennis/ps-167  PlayStation    2.0   \n",
       "\n",
       "          genre editors_choice  release_year  release_month  release_day  \n",
       "516   Adventure              N          1970              1            1  \n",
       "519  Platformer              N          1996             11           25  \n",
       "460      Sports              N          1996             11           25  \n",
       "461      Action              N          1996             11           25  \n",
       "462      Sports              N          1996             11           25  "
      ]
     },
     "execution_count": 238,
     "metadata": {},
     "output_type": "execute_result"
    }
   ],
   "source": [
    "sorted_reviews = reviews.sort_values('release_year')\n",
    "sorted_reviews.head()"
   ]
  },
  {
   "cell_type": "code",
   "execution_count": 240,
   "metadata": {},
   "outputs": [
    {
     "data": {
      "text/html": [
       "<div>\n",
       "<style>\n",
       "    .dataframe thead tr:only-child th {\n",
       "        text-align: right;\n",
       "    }\n",
       "\n",
       "    .dataframe thead th {\n",
       "        text-align: left;\n",
       "    }\n",
       "\n",
       "    .dataframe tbody tr th {\n",
       "        vertical-align: top;\n",
       "    }\n",
       "</style>\n",
       "<table border=\"1\" class=\"dataframe\">\n",
       "  <thead>\n",
       "    <tr style=\"text-align: right;\">\n",
       "      <th></th>\n",
       "      <th>score_phrase</th>\n",
       "      <th>title</th>\n",
       "      <th>url</th>\n",
       "      <th>platform</th>\n",
       "      <th>score</th>\n",
       "      <th>genre</th>\n",
       "      <th>editors_choice</th>\n",
       "      <th>release_year</th>\n",
       "      <th>release_month</th>\n",
       "      <th>release_day</th>\n",
       "    </tr>\n",
       "  </thead>\n",
       "  <tbody>\n",
       "    <tr>\n",
       "      <th>18624</th>\n",
       "      <td>Masterpiece</td>\n",
       "      <td>Inside</td>\n",
       "      <td>/games/inside-playdead/pc-20055740</td>\n",
       "      <td>PC</td>\n",
       "      <td>10.0</td>\n",
       "      <td>Adventure</td>\n",
       "      <td>Y</td>\n",
       "      <td>2016</td>\n",
       "      <td>6</td>\n",
       "      <td>28</td>\n",
       "    </tr>\n",
       "    <tr>\n",
       "      <th>18455</th>\n",
       "      <td>Amazing</td>\n",
       "      <td>Forza Horizon 3</td>\n",
       "      <td>/games/forza-horizon-3/xbox-one-20054783</td>\n",
       "      <td>Xbox One</td>\n",
       "      <td>9.5</td>\n",
       "      <td>Racing</td>\n",
       "      <td>Y</td>\n",
       "      <td>2016</td>\n",
       "      <td>9</td>\n",
       "      <td>20</td>\n",
       "    </tr>\n",
       "    <tr>\n",
       "      <th>18481</th>\n",
       "      <td>Good</td>\n",
       "      <td>Fallout 4: Automatron</td>\n",
       "      <td>/games/fallout-4-automatron/pc-20050744</td>\n",
       "      <td>PC</td>\n",
       "      <td>7.5</td>\n",
       "      <td>RPG</td>\n",
       "      <td>N</td>\n",
       "      <td>2016</td>\n",
       "      <td>3</td>\n",
       "      <td>24</td>\n",
       "    </tr>\n",
       "    <tr>\n",
       "      <th>18480</th>\n",
       "      <td>Great</td>\n",
       "      <td>Stardew Valley</td>\n",
       "      <td>/games/stardew-valley/pc-20001247</td>\n",
       "      <td>PC</td>\n",
       "      <td>8.8</td>\n",
       "      <td>RPG, Simulation</td>\n",
       "      <td>Y</td>\n",
       "      <td>2016</td>\n",
       "      <td>3</td>\n",
       "      <td>25</td>\n",
       "    </tr>\n",
       "    <tr>\n",
       "      <th>18479</th>\n",
       "      <td>Mediocre</td>\n",
       "      <td>Fallout 4: Wasteland Workshop</td>\n",
       "      <td>/games/fallout-4-wasteland-workshop/pc-20052357</td>\n",
       "      <td>PC</td>\n",
       "      <td>5.5</td>\n",
       "      <td>RPG</td>\n",
       "      <td>N</td>\n",
       "      <td>2016</td>\n",
       "      <td>4</td>\n",
       "      <td>15</td>\n",
       "    </tr>\n",
       "  </tbody>\n",
       "</table>\n",
       "</div>"
      ],
      "text/plain": [
       "      score_phrase                          title  \\\n",
       "18624  Masterpiece                         Inside   \n",
       "18455      Amazing                Forza Horizon 3   \n",
       "18481         Good          Fallout 4: Automatron   \n",
       "18480        Great                 Stardew Valley   \n",
       "18479     Mediocre  Fallout 4: Wasteland Workshop   \n",
       "\n",
       "                                                   url  platform  score  \\\n",
       "18624               /games/inside-playdead/pc-20055740        PC   10.0   \n",
       "18455         /games/forza-horizon-3/xbox-one-20054783  Xbox One    9.5   \n",
       "18481          /games/fallout-4-automatron/pc-20050744        PC    7.5   \n",
       "18480                /games/stardew-valley/pc-20001247        PC    8.8   \n",
       "18479  /games/fallout-4-wasteland-workshop/pc-20052357        PC    5.5   \n",
       "\n",
       "                 genre editors_choice  release_year  release_month  \\\n",
       "18624        Adventure              Y          2016              6   \n",
       "18455           Racing              Y          2016              9   \n",
       "18481              RPG              N          2016              3   \n",
       "18480  RPG, Simulation              Y          2016              3   \n",
       "18479              RPG              N          2016              4   \n",
       "\n",
       "       release_day  \n",
       "18624           28  \n",
       "18455           20  \n",
       "18481           24  \n",
       "18480           25  \n",
       "18479           15  "
      ]
     },
     "execution_count": 240,
     "metadata": {},
     "output_type": "execute_result"
    }
   ],
   "source": [
    "reviews.sort_values('release_year', ascending = False).head()"
   ]
  },
  {
   "cell_type": "code",
   "execution_count": 269,
   "metadata": {},
   "outputs": [
    {
     "data": {
      "text/plain": [
       "release_year\n",
       "1970    8.500000\n",
       "1996    6.161745\n",
       "1997    6.566341\n",
       "1998    6.930678\n",
       "1999    6.983484\n",
       "2000    6.693589\n",
       "2001    7.120494\n",
       "2002    6.978526\n",
       "2003    7.198246\n",
       "2004    7.170712\n",
       "Name: score, dtype: float64"
      ]
     },
     "execution_count": 269,
     "metadata": {},
     "output_type": "execute_result"
    }
   ],
   "source": [
    "mean = reviews.groupby('release_year')['score'].mean()\n",
    "mean.head(10)"
   ]
  },
  {
   "cell_type": "code",
   "execution_count": 248,
   "metadata": {},
   "outputs": [
    {
     "data": {
      "text/plain": [
       "release_year  release_month\n",
       "1970          1                8.500000\n",
       "1996          6                7.000000\n",
       "              9                9.000000\n",
       "              11               6.045385\n",
       "              12               6.700000\n",
       "1997          1                6.994444\n",
       "              2                7.014286\n",
       "              3                6.853846\n",
       "              4                6.169231\n",
       "              5                6.142105\n",
       "Name: score, dtype: float64"
      ]
     },
     "execution_count": 248,
     "metadata": {},
     "output_type": "execute_result"
    }
   ],
   "source": [
    "mean = reviews.groupby(['release_year', 'release_month'])['score'].mean()\n",
    "mean.head(10)"
   ]
  },
  {
   "cell_type": "code",
   "execution_count": null,
   "metadata": {
    "collapsed": true
   },
   "outputs": [],
   "source": []
  },
  {
   "cell_type": "code",
   "execution_count": 5,
   "metadata": {},
   "outputs": [
    {
     "data": {
      "text/plain": [
       "array([[1, 2],\n",
       "       [2, 3],\n",
       "       [3, 4]])"
      ]
     },
     "execution_count": 5,
     "metadata": {},
     "output_type": "execute_result"
    }
   ],
   "source": [
    "# numpy broadcast\n",
    "a = np.array([[1,2],[2,3],[3,4]])\n",
    "a"
   ]
  },
  {
   "cell_type": "code",
   "execution_count": 28,
   "metadata": {},
   "outputs": [
    {
     "data": {
      "text/plain": [
       "array([[2, 4],\n",
       "       [4, 6],\n",
       "       [6, 8]])"
      ]
     },
     "execution_count": 28,
     "metadata": {},
     "output_type": "execute_result"
    }
   ],
   "source": [
    "b = np.array([2,2,2])\n",
    "b = np.reshape(b, (3,1))\n",
    "c = a*b\n",
    "c"
   ]
  },
  {
   "cell_type": "code",
   "execution_count": 29,
   "metadata": {},
   "outputs": [
    {
     "data": {
      "text/plain": [
       "array([[    7.3890561 ,    54.59815003],\n",
       "       [   54.59815003,   403.42879349],\n",
       "       [  403.42879349,  2980.95798704]])"
      ]
     },
     "execution_count": 29,
     "metadata": {},
     "output_type": "execute_result"
    }
   ],
   "source": [
    "np.exp(c)"
   ]
  },
  {
   "cell_type": "code",
   "execution_count": 34,
   "metadata": {},
   "outputs": [
    {
     "data": {
      "text/plain": [
       "array([[ 1.        ,  2.        ],\n",
       "       [ 4.        ,  6.        ],\n",
       "       [ 2.        ,  2.66666667]])"
      ]
     },
     "execution_count": 34,
     "metadata": {},
     "output_type": "execute_result"
    }
   ],
   "source": [
    "c / np.reshape(np.array([2,1,3]), (3,1))"
   ]
  },
  {
   "cell_type": "code",
   "execution_count": 38,
   "metadata": {},
   "outputs": [
    {
     "data": {
      "text/plain": [
       "array([[ 0,  1,  2],\n",
       "       [ 3,  4,  5],\n",
       "       [ 6,  7,  8],\n",
       "       [ 9, 10, 11]])"
      ]
     },
     "execution_count": 38,
     "metadata": {},
     "output_type": "execute_result"
    }
   ],
   "source": [
    "d = np.arange(12).reshape(4,3)\n",
    "d"
   ]
  },
  {
   "cell_type": "code",
   "execution_count": 39,
   "metadata": {},
   "outputs": [
    {
     "data": {
      "text/plain": [
       "array([18, 22, 26])"
      ]
     },
     "execution_count": 39,
     "metadata": {},
     "output_type": "execute_result"
    }
   ],
   "source": [
    "d.sum(axis = 0)"
   ]
  },
  {
   "cell_type": "code",
   "execution_count": 40,
   "metadata": {},
   "outputs": [
    {
     "data": {
      "text/plain": [
       "array([ 3, 12, 21, 30])"
      ]
     },
     "execution_count": 40,
     "metadata": {},
     "output_type": "execute_result"
    }
   ],
   "source": [
    "d.sum(axis = 1)"
   ]
  },
  {
   "cell_type": "code",
   "execution_count": 46,
   "metadata": {},
   "outputs": [
    {
     "data": {
      "text/plain": [
       "array([[0, 1, 2, 3, 4],\n",
       "       [5, 6, 7, 8, 9]])"
      ]
     },
     "execution_count": 46,
     "metadata": {},
     "output_type": "execute_result"
    }
   ],
   "source": [
    "e = np.arange(10).reshape(2,5)\n",
    "e"
   ]
  },
  {
   "cell_type": "code",
   "execution_count": 47,
   "metadata": {},
   "outputs": [
    {
     "data": {
      "text/plain": [
       "array([[  1.00000000e+00,   2.71828183e+00,   7.38905610e+00,\n",
       "          2.00855369e+01,   5.45981500e+01],\n",
       "       [  1.48413159e+02,   4.03428793e+02,   1.09663316e+03,\n",
       "          2.98095799e+03,   8.10308393e+03]])"
      ]
     },
     "execution_count": 47,
     "metadata": {},
     "output_type": "execute_result"
    }
   ],
   "source": [
    "np.exp(e)"
   ]
  },
  {
   "cell_type": "code",
   "execution_count": 49,
   "metadata": {},
   "outputs": [
    {
     "data": {
      "text/plain": [
       "array([[0, 1],\n",
       "       [2, 3],\n",
       "       [4, 5],\n",
       "       [6, 7],\n",
       "       [8, 9]])"
      ]
     },
     "execution_count": 49,
     "metadata": {},
     "output_type": "execute_result"
    }
   ],
   "source": [
    "e.reshape((5,2))"
   ]
  },
  {
   "cell_type": "code",
   "execution_count": 57,
   "metadata": {},
   "outputs": [
    {
     "data": {
      "text/plain": [
       "array([[ 0,  1,  2,  3,  4],\n",
       "       [ 5,  6,  7,  8,  9],\n",
       "       [10, 11, 12, 13, 14],\n",
       "       [15, 16, 17, 18, 19]])"
      ]
     },
     "execution_count": 57,
     "metadata": {},
     "output_type": "execute_result"
    }
   ],
   "source": [
    "x = np.arange(20).reshape(4,5)\n",
    "x"
   ]
  },
  {
   "cell_type": "code",
   "execution_count": 58,
   "metadata": {},
   "outputs": [
    {
     "data": {
      "text/plain": [
       "array([  8.57910249e+01,   1.27325170e+04,   1.88967308e+06,\n",
       "         2.80452351e+08])"
      ]
     },
     "execution_count": 58,
     "metadata": {},
     "output_type": "execute_result"
    }
   ],
   "source": [
    "row_sum = np.sum(np.exp(x), axis = 1)\n",
    "row_sum"
   ]
  },
  {
   "cell_type": "code",
   "execution_count": 60,
   "metadata": {},
   "outputs": [
    {
     "data": {
      "text/plain": [
       "array([[  8.57910249e+01],\n",
       "       [  1.27325170e+04],\n",
       "       [  1.88967308e+06],\n",
       "       [  2.80452351e+08]])"
      ]
     },
     "execution_count": 60,
     "metadata": {},
     "output_type": "execute_result"
    }
   ],
   "source": [
    "row_sum = row_sum.reshape((x.shape[0], 1))\n",
    "row_sum"
   ]
  },
  {
   "cell_type": "code",
   "execution_count": 61,
   "metadata": {},
   "outputs": [
    {
     "data": {
      "text/plain": [
       "array([[ 0.01165623,  0.03168492,  0.08612854,  0.23412166,  0.63640865],\n",
       "       [ 0.01165623,  0.03168492,  0.08612854,  0.23412166,  0.63640865],\n",
       "       [ 0.01165623,  0.03168492,  0.08612854,  0.23412166,  0.63640865],\n",
       "       [ 0.01165623,  0.03168492,  0.08612854,  0.23412166,  0.63640865]])"
      ]
     },
     "execution_count": 61,
     "metadata": {},
     "output_type": "execute_result"
    }
   ],
   "source": [
    "x = np.exp(x) / row_sum\n",
    "x"
   ]
  },
  {
   "cell_type": "code",
   "execution_count": 88,
   "metadata": {
    "collapsed": true
   },
   "outputs": [],
   "source": [
    "def softmax(x):\n",
    "    orig_shape = x.shape\n",
    "\n",
    "    if len(x.shape) > 1:\n",
    "        # Matrix\n",
    "        ### YOUR CODE HERE\n",
    "        x = (x.T - np.max(x, axis = 1)).T\n",
    "        row_sum = np.sum(np.exp(x), axis = 1)\n",
    "        row_sum = row_sum.reshape((x.shape[0], 1))\n",
    "        x = np.exp(x) / row_sum\n",
    "        return x\n",
    "        ### END YOUR CODE\n",
    "    else:\n",
    "        # Vector\n",
    "        ### YOUR CODE HERE\n",
    "        x = x - np.max(x)\n",
    "        x = np.exp(x) / np.sum(np.exp(x))\n",
    "        return x\n",
    "        ### END YOUR CODE\n",
    "\n",
    "    assert x.shape == orig_shape\n",
    "    return x"
   ]
  },
  {
   "cell_type": "code",
   "execution_count": 89,
   "metadata": {},
   "outputs": [
    {
     "name": "stderr",
     "output_type": "stream",
     "text": [
      "/Users/davidzhou/anaconda/lib/python3.6/site-packages/ipykernel_launcher.py:2: RuntimeWarning: overflow encountered in exp\n",
      "  \n"
     ]
    },
    {
     "data": {
      "text/plain": [
       "array([[         inf,          inf],\n",
       "       [ 20.08553692,  54.59815003]])"
      ]
     },
     "execution_count": 89,
     "metadata": {},
     "output_type": "execute_result"
    }
   ],
   "source": [
    "nn = np.array([[1001,1002],[3,4]])\n",
    "np.exp(nn)"
   ]
  },
  {
   "cell_type": "code",
   "execution_count": 90,
   "metadata": {},
   "outputs": [
    {
     "data": {
      "text/plain": [
       "array([[  2.74878501e-43,   1.00000000e+00,   7.47197234e-43],\n",
       "       [  1.00000000e+00,   5.22439558e-98,   3.86033521e-97]])"
      ]
     },
     "execution_count": 90,
     "metadata": {},
     "output_type": "execute_result"
    }
   ],
   "source": [
    "n2 = np.array([[2,100,3],[234,10,12]])\n",
    "softmax((n2.T - np.max(n2, axis = 1)).T)"
   ]
  },
  {
   "cell_type": "code",
   "execution_count": 91,
   "metadata": {},
   "outputs": [],
   "source": [
    "def test_softmax_basic():\n",
    "    \"\"\"\n",
    "    Some simple tests to get you started.\n",
    "    Warning: these are not exhaustive.\n",
    "    \"\"\"\n",
    "    print(\"Running basic tests...\")\n",
    "    test1 = softmax(np.array([1,2]))\n",
    "    print(test1)\n",
    "    ans1 = np.array([0.26894142,  0.73105858])\n",
    "    assert np.allclose(test1, ans1, rtol=1e-05, atol=1e-06)\n",
    "\n",
    "    test2 = softmax(np.array([[1001,1002],[3,4]]))\n",
    "    print(test2)\n",
    "    ans2 = np.array([\n",
    "        [0.26894142, 0.73105858],\n",
    "        [0.26894142, 0.73105858]])\n",
    "    assert np.allclose(test2, ans2, rtol=1e-05, atol=1e-06)\n",
    "\n",
    "    test3 = softmax(np.array([[-1001,-1002]]))\n",
    "    print(test3)\n",
    "    ans3 = np.array([0.73105858, 0.26894142])\n",
    "    assert np.allclose(test3, ans3, rtol=1e-05, atol=1e-06)\n"
   ]
  },
  {
   "cell_type": "code",
   "execution_count": 93,
   "metadata": {
    "scrolled": true
   },
   "outputs": [
    {
     "name": "stdout",
     "output_type": "stream",
     "text": [
      "Running basic tests...\n",
      "[ 0.26894142  0.73105858]\n",
      "[[ 0.26894142  0.73105858]\n",
      " [ 0.26894142  0.73105858]]\n",
      "[[ 0.73105858  0.26894142]]\n"
     ]
    }
   ],
   "source": [
    "test_softmax_basic()"
   ]
  },
  {
   "cell_type": "code",
   "execution_count": null,
   "metadata": {
    "collapsed": true
   },
   "outputs": [],
   "source": []
  }
 ],
 "metadata": {
  "kernelspec": {
   "display_name": "Python 3",
   "language": "python",
   "name": "python3"
  },
  "language_info": {
   "codemirror_mode": {
    "name": "ipython",
    "version": 3
   },
   "file_extension": ".py",
   "mimetype": "text/x-python",
   "name": "python",
   "nbconvert_exporter": "python",
   "pygments_lexer": "ipython3",
   "version": "3.6.1"
  }
 },
 "nbformat": 4,
 "nbformat_minor": 2
}
