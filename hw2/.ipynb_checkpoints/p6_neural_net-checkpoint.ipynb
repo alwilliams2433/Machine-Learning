{
 "cells": [
  {
   "cell_type": "code",
   "execution_count": 18,
   "metadata": {
    "collapsed": true
   },
   "outputs": [],
   "source": [
    "import numpy as np\n",
    "import random\n",
    "from numpy import linalg as LA"
   ]
  },
  {
   "cell_type": "markdown",
   "metadata": {},
   "source": [
    "### Problem 6 (iii)"
   ]
  },
  {
   "cell_type": "markdown",
   "metadata": {},
   "source": [
    "### Team Member\n",
    "Xingchen Zhou (xz2721) \n",
    "Lei You (ly2358)\n",
    "Jin Yan  (jy2913)"
   ]
  },
  {
   "cell_type": "code",
   "execution_count": 15,
   "metadata": {
    "collapsed": true
   },
   "outputs": [],
   "source": [
    "# Initialization\n",
    "k = 100\n",
    "\n",
    "w1 = []\n",
    "for i in range(k):\n",
    "    w1.append(random.uniform(-100,100))\n",
    "w1 = np.array(w1)\n",
    "    \n",
    "w2 = []\n",
    "for i in range(k):\n",
    "    w2.append(random.uniform(-100, 100))\n",
    "w2 = np.array(w2)\n",
    "\n",
    "b1 = []\n",
    "for i in range(k):\n",
    "    b1.append(random.uniform(-100, 100))\n",
    "b1 = np.array(b1)\n",
    "\n",
    "b2 = random.uniform(-100, 100)"
   ]
  },
  {
   "cell_type": "code",
   "execution_count": 3,
   "metadata": {
    "collapsed": true
   },
   "outputs": [],
   "source": [
    "# Algorithm Implementation\n",
    "def learn(x_vectors, y_vector, w1, w2, b1, b2, eta):\n",
    "    while:\n",
    "        y_hat = []\n",
    "        for x in x_vectors:\n",
    "            v = []\n",
    "            v.append(sigmoid(x * w1 + b1))\n",
    "            v = np.array(v)\n",
    "            y_hat.append(sigmoid(v @ w2 + b2))\n",
    "        # Calculate gradient\n",
    "        grad_w2 = grad_b2 * v\n",
    "        \n",
    "        sum_ = 0\n",
    "        for i in len(y_hat):\n",
    "            sum_ += y_hat[i] - y[i]\n",
    "        \n",
    "        grad_b2 = sum_ * sigmoid_prime(w2 @ v + b2) / len(y_hat)\n",
    "        \n",
    "        summ = 1\n",
    "        for i in range(len(y_hat)):\n",
    "            summ += (y_hat[i] - y[i]) * sigmoid_prime((x[i] * w1 + b1) * x[i])\n",
    "        grad_w1 = 1/n * w2 * sigmoid_prime(w2 @ v + b2) * summ\n",
    "        \n",
    "        \n",
    "        summ = 1\n",
    "        for i in range(len(y_hat)):\n",
    "            summ += (y_hat[i] - y[i]) * sigmoid_prime((x[i] * w1 + b1))\n",
    "        grad_b1 = 1/n * w2 * sigmoid_prime(w2 @ v + b2) * summ\n",
    "        \n",
    "        \n",
    "        # Update variable\n",
    "        w2 = w2 - eta * grad_w2\n",
    "        w1 = w1 - eta * grad_w1\n",
    "        b1 = b1 - eta * grad_b1\n",
    "        b2 = b2 - eta * grad_b2\n",
    "    \n",
    "        # Evaluate convergence\n",
    "        count = 0\n",
    "        for i in y_hat:\n",
    "            if y_hat[i] != y[i]: count += 1\n",
    "        if count = 0: return\n",
    "        "
   ]
  },
  {
   "cell_type": "code",
   "execution_count": 16,
   "metadata": {
    "collapsed": true
   },
   "outputs": [],
   "source": [
    "def sigmoid(x):\n",
    "    return 1.0/(1.0+np.exp(-x))"
   ]
  },
  {
   "cell_type": "code",
   "execution_count": 25,
   "metadata": {
    "collapsed": true
   },
   "outputs": [],
   "source": [
    "def sigmoid_prime(x):\n",
    "    return sigmoid(x)*(1-sigmoid(x))"
   ]
  },
  {
   "cell_type": "code",
   "execution_count": 21,
   "metadata": {
    "collapsed": true
   },
   "outputs": [],
   "source": [
    "# Error Function\n",
    "def error_function(y_hat, y):\n",
    "    return LA.norm(y_hat - y)**2 / (2.0 * len(y_hat))"
   ]
  },
  {
   "cell_type": "markdown",
   "metadata": {
    "collapsed": true
   },
   "source": [
    "### Problem 4"
   ]
  },
  {
   "cell_type": "code",
   "execution_count": 1,
   "metadata": {},
   "outputs": [
    {
     "ename": "NameError",
     "evalue": "name 'scipy' is not defined",
     "output_type": "error",
     "traceback": [
      "\u001b[0;31m---------------------------------------------------------------------------\u001b[0m",
      "\u001b[0;31mNameError\u001b[0m                                 Traceback (most recent call last)",
      "\u001b[0;32m<ipython-input-1-25c64afc08bd>\u001b[0m in \u001b[0;36m<module>\u001b[0;34m()\u001b[0m\n\u001b[0;32m----> 1\u001b[0;31m \u001b[0mmat\u001b[0m \u001b[0;34m=\u001b[0m \u001b[0mscipy\u001b[0m\u001b[0;34m.\u001b[0m\u001b[0mio\u001b[0m\u001b[0;34m.\u001b[0m\u001b[0mloadmat\u001b[0m\u001b[0;34m(\u001b[0m\u001b[0;34m'hw2data_2.mat'\u001b[0m\u001b[0;34m)\u001b[0m\u001b[0;34m\u001b[0m\u001b[0m\n\u001b[0m",
      "\u001b[0;31mNameError\u001b[0m: name 'scipy' is not defined"
     ]
    }
   ],
   "source": [
    "mat = scipy.io.loadmat('hw2data_2.mat')\n"
   ]
  },
  {
   "cell_type": "code",
   "execution_count": null,
   "metadata": {
    "collapsed": true
   },
   "outputs": [],
   "source": []
  }
 ],
 "metadata": {
  "kernelspec": {
   "display_name": "Python 3",
   "language": "python",
   "name": "python3"
  },
  "language_info": {
   "codemirror_mode": {
    "name": "ipython",
    "version": 3
   },
   "file_extension": ".py",
   "mimetype": "text/x-python",
   "name": "python",
   "nbconvert_exporter": "python",
   "pygments_lexer": "ipython3",
   "version": "3.6.1"
  }
 },
 "nbformat": 4,
 "nbformat_minor": 2
}
